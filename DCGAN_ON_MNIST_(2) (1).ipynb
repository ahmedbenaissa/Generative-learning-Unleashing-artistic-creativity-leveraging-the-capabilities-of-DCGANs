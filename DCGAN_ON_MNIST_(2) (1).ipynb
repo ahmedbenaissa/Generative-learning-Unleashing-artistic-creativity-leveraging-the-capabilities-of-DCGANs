{
  "cells": [
    {
      "cell_type": "code",
      "source": [
        "# import all  libraries \n",
        "import torch\n",
        "from torch import nn\n",
        "import torchvision\n",
        "from torch import optim\n",
        "from torchvision.datasets import FashionMNIST\n",
        "from torchvision import transforms\n",
        "from torch.utils.data import DataLoader\n",
        "from torch.utils.tensorboard import SummaryWriter"
      ],
      "metadata": {
        "id": "7TLT0h_dfphQ"
      },
      "execution_count": 1,
      "outputs": []
    },
    {
      "cell_type": "code",
      "execution_count": 2,
      "metadata": {
        "colab": {
          "base_uri": "https://localhost:8080/",
          "height": 399
        },
        "id": "AZV2wEnhl7s-",
        "outputId": "89e03c97-27cc-47ae-ef45-8f03dfd70bb1"
      },
      "outputs": [
        {
          "output_type": "stream",
          "name": "stdout",
          "text": [
            "Looking in indexes: https://pypi.org/simple, https://us-python.pkg.dev/colab-wheels/public/simple/\n",
            "Collecting jupyter-autotime\n",
            "  Downloading jupyter_autotime-1.1.0-py3-none-any.whl (4.5 kB)\n",
            "Requirement already satisfied: ipython<8,>=6 in /usr/local/lib/python3.10/dist-packages (from jupyter-autotime) (7.34.0)\n",
            "Requirement already satisfied: setuptools>=18.5 in /usr/local/lib/python3.10/dist-packages (from ipython<8,>=6->jupyter-autotime) (67.7.2)\n",
            "Collecting jedi>=0.16 (from ipython<8,>=6->jupyter-autotime)\n",
            "  Downloading jedi-0.18.2-py2.py3-none-any.whl (1.6 MB)\n",
            "\u001b[2K     \u001b[90m━━━━━━━━━━━━━━━━━━━━━━━━━━━━━━━━━━━━━━━━\u001b[0m \u001b[32m1.6/1.6 MB\u001b[0m \u001b[31m41.1 MB/s\u001b[0m eta \u001b[36m0:00:00\u001b[0m\n",
            "\u001b[?25hRequirement already satisfied: decorator in /usr/local/lib/python3.10/dist-packages (from ipython<8,>=6->jupyter-autotime) (4.4.2)\n",
            "Requirement already satisfied: pickleshare in /usr/local/lib/python3.10/dist-packages (from ipython<8,>=6->jupyter-autotime) (0.7.5)\n",
            "Requirement already satisfied: traitlets>=4.2 in /usr/local/lib/python3.10/dist-packages (from ipython<8,>=6->jupyter-autotime) (5.7.1)\n",
            "Requirement already satisfied: prompt-toolkit!=3.0.0,!=3.0.1,<3.1.0,>=2.0.0 in /usr/local/lib/python3.10/dist-packages (from ipython<8,>=6->jupyter-autotime) (3.0.38)\n",
            "Requirement already satisfied: pygments in /usr/local/lib/python3.10/dist-packages (from ipython<8,>=6->jupyter-autotime) (2.14.0)\n",
            "Requirement already satisfied: backcall in /usr/local/lib/python3.10/dist-packages (from ipython<8,>=6->jupyter-autotime) (0.2.0)\n",
            "Requirement already satisfied: matplotlib-inline in /usr/local/lib/python3.10/dist-packages (from ipython<8,>=6->jupyter-autotime) (0.1.6)\n",
            "Requirement already satisfied: pexpect>4.3 in /usr/local/lib/python3.10/dist-packages (from ipython<8,>=6->jupyter-autotime) (4.8.0)\n",
            "Requirement already satisfied: parso<0.9.0,>=0.8.0 in /usr/local/lib/python3.10/dist-packages (from jedi>=0.16->ipython<8,>=6->jupyter-autotime) (0.8.3)\n",
            "Requirement already satisfied: ptyprocess>=0.5 in /usr/local/lib/python3.10/dist-packages (from pexpect>4.3->ipython<8,>=6->jupyter-autotime) (0.7.0)\n",
            "Requirement already satisfied: wcwidth in /usr/local/lib/python3.10/dist-packages (from prompt-toolkit!=3.0.0,!=3.0.1,<3.1.0,>=2.0.0->ipython<8,>=6->jupyter-autotime) (0.2.6)\n",
            "Installing collected packages: jedi, jupyter-autotime\n",
            "Successfully installed jedi-0.18.2 jupyter-autotime-1.1.0\n"
          ]
        },
        {
          "output_type": "display_data",
          "data": {
            "text/plain": [
              "<IPython.core.display.HTML object>"
            ],
            "text/html": [
              "<pre>✔️ 1.79 ms (2023-05-29T22:05:27/2023-05-29T22:05:27)</pre>"
            ]
          },
          "metadata": {}
        }
      ],
      "source": [
        "!pip install jupyter-autotime\n",
        "%load_ext autotime"
      ]
    },
    {
      "cell_type": "code",
      "execution_count": 3,
      "metadata": {
        "colab": {
          "base_uri": "https://localhost:8080/",
          "height": 34
        },
        "id": "Uk0T3AOtPDfH",
        "outputId": "d1771e7b-14fc-4865-aa9f-91d751472285"
      },
      "outputs": [
        {
          "output_type": "display_data",
          "data": {
            "text/plain": [
              "<IPython.core.display.HTML object>"
            ],
            "text/html": [
              "<pre>✔️ 1.85 ms (2023-05-29T22:05:27/2023-05-29T22:05:27)</pre>"
            ]
          },
          "metadata": {}
        }
      ],
      "source": [
        "class Generator(nn.Module):\n",
        "    def __init__(self, noise_channels, image_channels, features):\n",
        "        super(Generator, self).__init__()\n",
        "        \"\"\"\n",
        "       The generator model is defined with four ConvTranspose blocks, each consisting of a ConvTranspose2d layer,\n",
        "        BatchNorm2d layer, and ReLU activation. It takes a latent tensor as input and aims to generate an image tensor.\n",
        "         The sequential module main contains these blocks, starting with a ConvTranspose2d layer with a specified number of input and output channels\n",
        "         , followed by BatchNorm2d and ReLU activation functions. This pattern is repeated for the remaining blocks.\n",
        "        \"\"\"\n",
        "        # define the model\n",
        "        self.model = nn.Sequential(\n",
        "            # Transpose block 1\n",
        "            nn.ConvTranspose2d(noise_channels, features*16, kernel_size=4, stride=1, padding=0),\n",
        "            nn.ReLU(),\n",
        "\n",
        "            # Transpose block 2\n",
        "            nn.ConvTranspose2d(features*16, features*8, kernel_size=4, stride=2, padding=1),\n",
        "            nn.BatchNorm2d(features*8),\n",
        "            nn.ReLU(),\n",
        "\n",
        "            # Transpose block 3\n",
        "            nn.ConvTranspose2d(features*8, features*4, kernel_size=4, stride=2, padding=1),\n",
        "            nn.BatchNorm2d(features*4),\n",
        "            nn.ReLU(),\n",
        "\n",
        "            # Transpose block 4\n",
        "            nn.ConvTranspose2d(features*4, features*2, kernel_size=4, stride=2, padding=1),\n",
        "            nn.BatchNorm2d(features*2),\n",
        "            nn.ReLU(),\n",
        "\n",
        "            # Last transpose block (different)\n",
        "            nn.ConvTranspose2d(features*2, image_channels, kernel_size=4, stride=2, padding=1),\n",
        "            nn.Tanh(),\n",
        "        )\n",
        "    \n",
        "    def forward(self, x):\n",
        "        return self.model(x)\n"
      ]
    },
    {
      "cell_type": "code",
      "execution_count": 4,
      "metadata": {
        "colab": {
          "base_uri": "https://localhost:8080/",
          "height": 34
        },
        "id": "hjknBmfRPtuD",
        "outputId": "dfdc6e06-ed2b-4750-9601-264609859543"
      },
      "outputs": [
        {
          "output_type": "display_data",
          "data": {
            "text/plain": [
              "<IPython.core.display.HTML object>"
            ],
            "text/html": [
              "<pre>✔️ 2.5 ms (2023-05-29T22:05:27/2023-05-29T22:05:27)</pre>"
            ]
          },
          "metadata": {}
        }
      ],
      "source": [
        "class Discriminator(nn.Module):\n",
        "    def __init__(self, image_channels, features):\n",
        "        super(Discriminator, self).__init__()\n",
        "        \"\"\"\n",
        "        This function will define the Discriminator model with all the layers needed.\n",
        "        The model has 5 Conv blocks. The blocks have Conv2d, BatchNorm and LeakyReLU activation.\n",
        "        \"\"\"\n",
        "        # define the model\n",
        "        self.model = nn.Sequential(\n",
        "            # define the first Conv block\n",
        "            nn.Conv2d(image_channels, features, kernel_size=4, stride=2, padding=1),\n",
        "            nn.LeakyReLU(0.2),\n",
        "\n",
        "            # Conv block 2 \n",
        "            nn.Conv2d(features, features*2, kernel_size=4, stride=2, padding=1),\n",
        "            nn.BatchNorm2d(features*2),\n",
        "            nn.LeakyReLU(0.2),\n",
        "    \n",
        "            # Conv block 3\n",
        "            nn.Conv2d(features*2, features*4, kernel_size=4, stride=2, padding=1),\n",
        "            nn.BatchNorm2d(features*4),\n",
        "            nn.LeakyReLU(0.2),\n",
        "\n",
        "            # Conv block 4\n",
        "            nn.Conv2d(features*4, features*8, kernel_size=4, stride=2, padding=1),\n",
        "            nn.BatchNorm2d(features*8),\n",
        "            nn.LeakyReLU(0.2),\n",
        "\n",
        "            # Conv block 5 (different)\n",
        "            nn.Conv2d(features*8, 1, kernel_size=4, stride=2, padding=0),\n",
        "            nn.Sigmoid(),\n",
        "        )\n",
        "\n",
        "    def forward(self, x):\n",
        "        return self.model(x)"
      ]
    },
    {
      "cell_type": "code",
      "execution_count": 5,
      "metadata": {
        "colab": {
          "base_uri": "https://localhost:8080/",
          "height": 34
        },
        "id": "BNP3DdwRQEOC",
        "outputId": "93a8bcf1-57f7-4322-a8f4-bbeba1148189"
      },
      "outputs": [
        {
          "output_type": "display_data",
          "data": {
            "text/plain": [
              "<IPython.core.display.HTML object>"
            ],
            "text/html": [
              "<pre>✔️ 2.22 ms (2023-05-29T22:05:27/2023-05-29T22:05:27)</pre>"
            ]
          },
          "metadata": {}
        }
      ],
      "source": [
        "# define the hyperparameters and variables\n",
        "LEARNING_RATE = 0.0005\n",
        "BATCH_SIZE = 256\n",
        "IMAGE_SIZE = 64\n",
        "EPOCHS = 150\n",
        "image_channels = 1\n",
        "noise_channels = 256\n",
        "gen_features = 64\n",
        "disc_features = 64"
      ]
    },
    {
      "cell_type": "code",
      "execution_count": 6,
      "metadata": {
        "colab": {
          "base_uri": "https://localhost:8080/",
          "height": 34
        },
        "id": "urGH8rk2QQFn",
        "outputId": "f5cb2600-f546-44af-8544-3992f7edd22e"
      },
      "outputs": [
        {
          "output_type": "display_data",
          "data": {
            "text/plain": [
              "<IPython.core.display.HTML object>"
            ],
            "text/html": [
              "<pre>✔️ 527 µs (2023-05-29T22:05:28/2023-05-29T22:05:28)</pre>"
            ]
          },
          "metadata": {}
        }
      ],
      "source": [
        "# set everything to GPU\n",
        "device = torch.device(\"cpu\")\n",
        "# device = torch.device(\"cuda\")"
      ]
    },
    {
      "cell_type": "code",
      "execution_count": 7,
      "metadata": {
        "colab": {
          "base_uri": "https://localhost:8080/",
          "height": 34
        },
        "id": "4LdO7zjbQSqp",
        "outputId": "3b2f7e29-da12-444b-c0e4-259b598f065e"
      },
      "outputs": [
        {
          "output_type": "display_data",
          "data": {
            "text/plain": [
              "<IPython.core.display.HTML object>"
            ],
            "text/html": [
              "<pre>✔️ 898 µs (2023-05-29T22:05:29/2023-05-29T22:05:29)</pre>"
            ]
          },
          "metadata": {}
        }
      ],
      "source": [
        "# define the transform\n",
        "data_transforms = transforms.Compose([\n",
        "        transforms.Resize(IMAGE_SIZE),\n",
        "        transforms.ToTensor(),\n",
        "        transforms.Normalize((0.5,), (0.5,)),\n",
        "])"
      ]
    },
    {
      "cell_type": "code",
      "execution_count": 8,
      "metadata": {
        "colab": {
          "base_uri": "https://localhost:8080/",
          "height": 381
        },
        "id": "pdAszhpZQu7E",
        "outputId": "044ce094-89ae-4926-ed2b-71fc02a992d5"
      },
      "outputs": [
        {
          "output_type": "display_data",
          "data": {
            "text/plain": [
              "<IPython.core.display.HTML object>"
            ],
            "text/html": [
              "<pre>✔️ 1.49 s (2023-05-29T22:05:30/2023-05-29T22:05:32)</pre>"
            ]
          },
          "metadata": {}
        },
        {
          "output_type": "stream",
          "name": "stdout",
          "text": [
            "Downloading http://fashion-mnist.s3-website.eu-central-1.amazonaws.com/train-images-idx3-ubyte.gz\n",
            "Downloading http://fashion-mnist.s3-website.eu-central-1.amazonaws.com/train-images-idx3-ubyte.gz to dataset/FashionMNIST/raw/train-images-idx3-ubyte.gz\n"
          ]
        },
        {
          "output_type": "stream",
          "name": "stderr",
          "text": [
            "100%|██████████| 26421880/26421880 [00:00<00:00, 114896905.09it/s]\n"
          ]
        },
        {
          "output_type": "stream",
          "name": "stdout",
          "text": [
            "Extracting dataset/FashionMNIST/raw/train-images-idx3-ubyte.gz to dataset/FashionMNIST/raw\n",
            "\n",
            "Downloading http://fashion-mnist.s3-website.eu-central-1.amazonaws.com/train-labels-idx1-ubyte.gz\n",
            "Downloading http://fashion-mnist.s3-website.eu-central-1.amazonaws.com/train-labels-idx1-ubyte.gz to dataset/FashionMNIST/raw/train-labels-idx1-ubyte.gz\n"
          ]
        },
        {
          "output_type": "stream",
          "name": "stderr",
          "text": [
            "100%|██████████| 29515/29515 [00:00<00:00, 4715995.53it/s]"
          ]
        },
        {
          "output_type": "stream",
          "name": "stdout",
          "text": [
            "Extracting dataset/FashionMNIST/raw/train-labels-idx1-ubyte.gz to dataset/FashionMNIST/raw\n",
            "\n",
            "Downloading http://fashion-mnist.s3-website.eu-central-1.amazonaws.com/t10k-images-idx3-ubyte.gz\n",
            "Downloading http://fashion-mnist.s3-website.eu-central-1.amazonaws.com/t10k-images-idx3-ubyte.gz to dataset/FashionMNIST/raw/t10k-images-idx3-ubyte.gz\n"
          ]
        },
        {
          "output_type": "stream",
          "name": "stderr",
          "text": [
            "\n",
            "100%|██████████| 4422102/4422102 [00:00<00:00, 57293370.44it/s]\n"
          ]
        },
        {
          "output_type": "stream",
          "name": "stdout",
          "text": [
            "Extracting dataset/FashionMNIST/raw/t10k-images-idx3-ubyte.gz to dataset/FashionMNIST/raw\n",
            "\n",
            "Downloading http://fashion-mnist.s3-website.eu-central-1.amazonaws.com/t10k-labels-idx1-ubyte.gz\n",
            "Downloading http://fashion-mnist.s3-website.eu-central-1.amazonaws.com/t10k-labels-idx1-ubyte.gz to dataset/FashionMNIST/raw/t10k-labels-idx1-ubyte.gz\n"
          ]
        },
        {
          "output_type": "stream",
          "name": "stderr",
          "text": [
            "100%|██████████| 5148/5148 [00:00<00:00, 2666042.35it/s]\n"
          ]
        },
        {
          "output_type": "stream",
          "name": "stdout",
          "text": [
            "Extracting dataset/FashionMNIST/raw/t10k-labels-idx1-ubyte.gz to dataset/FashionMNIST/raw\n",
            "\n"
          ]
        }
      ],
      "source": [
        "# load the dataset \n",
        "dataset = FashionMNIST(root=\"dataset/\", train=True, transform=data_transforms, download=True)\n",
        "dataloader = DataLoader(dataset, batch_size=BATCH_SIZE, shuffle=True)"
      ]
    },
    {
      "cell_type": "code",
      "execution_count": 9,
      "metadata": {
        "colab": {
          "base_uri": "https://localhost:8080/",
          "height": 34
        },
        "id": "sdO03kCcQ6Ov",
        "outputId": "06fc03c5-e5f0-4b86-acd7-e77648d41966"
      },
      "outputs": [
        {
          "output_type": "display_data",
          "data": {
            "text/plain": [
              "<IPython.core.display.HTML object>"
            ],
            "text/html": [
              "<pre>✔️ 266 ms (2023-05-29T22:05:32/2023-05-29T22:05:32)</pre>"
            ]
          },
          "metadata": {}
        }
      ],
      "source": [
        "# load models\n",
        "gen_model  = Generator(noise_channels, image_channels, gen_features).to(device)\n",
        "disc_model = Discriminator(image_channels, disc_features).to(device)"
      ]
    },
    {
      "cell_type": "code",
      "execution_count": 10,
      "metadata": {
        "colab": {
          "base_uri": "https://localhost:8080/",
          "height": 34
        },
        "id": "spHcTmzmRrHV",
        "outputId": "6f650531-d5ee-46a1-f539-02ab8fc6f0ab"
      },
      "outputs": [
        {
          "output_type": "display_data",
          "data": {
            "text/plain": [
              "<IPython.core.display.HTML object>"
            ],
            "text/html": [
              "<pre>✔️ 1.71 ms (2023-05-29T22:05:33/2023-05-29T22:05:33)</pre>"
            ]
          },
          "metadata": {}
        }
      ],
      "source": [
        "# setup optimizers for both models\n",
        "gen_optimizer = optim.Adam(gen_model.parameters(), lr=LEARNING_RATE, betas=(0.5, 0.999))\n",
        "disc_optimizer = optim.Adam(disc_model.parameters(), lr=LEARNING_RATE, betas=(0.5, 0.999))"
      ]
    },
    {
      "cell_type": "code",
      "execution_count": 11,
      "metadata": {
        "colab": {
          "base_uri": "https://localhost:8080/",
          "height": 34
        },
        "id": "cm4GbArPRvRr",
        "outputId": "8cca9a23-618b-431c-aa07-9b8bfdbe83e6"
      },
      "outputs": [
        {
          "output_type": "display_data",
          "data": {
            "text/plain": [
              "<IPython.core.display.HTML object>"
            ],
            "text/html": [
              "<pre>✔️ 556 µs (2023-05-29T22:05:34/2023-05-29T22:05:34)</pre>"
            ]
          },
          "metadata": {}
        }
      ],
      "source": [
        "# define the loss function \n",
        "criterion = nn.BCELoss()"
      ]
    },
    {
      "cell_type": "code",
      "execution_count": 12,
      "metadata": {
        "colab": {
          "base_uri": "https://localhost:8080/",
          "height": 34
        },
        "id": "1RF_dbEFR3s3",
        "outputId": "275d5ff7-adea-44eb-a53d-86eea6b2893e"
      },
      "outputs": [
        {
          "output_type": "display_data",
          "data": {
            "text/plain": [
              "<IPython.core.display.HTML object>"
            ],
            "text/html": [
              "<pre>✔️ 732 µs (2023-05-29T22:05:36/2023-05-29T22:05:36)</pre>"
            ]
          },
          "metadata": {}
        }
      ],
      "source": [
        "# deifne labels for fake images and real images for the discriminator\n",
        "fake_label = 0\n",
        "real_label = 1"
      ]
    },
    {
      "cell_type": "code",
      "execution_count": 13,
      "metadata": {
        "colab": {
          "base_uri": "https://localhost:8080/",
          "height": 329
        },
        "id": "L6XRRgJWRzdz",
        "outputId": "6a75ba1c-7aa2-4287-ab8b-2a07bd267ec6"
      },
      "outputs": [
        {
          "output_type": "display_data",
          "data": {
            "text/plain": [
              "<IPython.core.display.HTML object>"
            ],
            "text/html": [
              "<pre>✔️ 3.36 ms (2023-05-29T22:05:37/2023-05-29T22:05:37)</pre>"
            ]
          },
          "metadata": {}
        },
        {
          "output_type": "execute_result",
          "data": {
            "text/plain": [
              "Discriminator(\n",
              "  (model): Sequential(\n",
              "    (0): Conv2d(1, 64, kernel_size=(4, 4), stride=(2, 2), padding=(1, 1))\n",
              "    (1): LeakyReLU(negative_slope=0.2)\n",
              "    (2): Conv2d(64, 128, kernel_size=(4, 4), stride=(2, 2), padding=(1, 1))\n",
              "    (3): BatchNorm2d(128, eps=1e-05, momentum=0.1, affine=True, track_running_stats=True)\n",
              "    (4): LeakyReLU(negative_slope=0.2)\n",
              "    (5): Conv2d(128, 256, kernel_size=(4, 4), stride=(2, 2), padding=(1, 1))\n",
              "    (6): BatchNorm2d(256, eps=1e-05, momentum=0.1, affine=True, track_running_stats=True)\n",
              "    (7): LeakyReLU(negative_slope=0.2)\n",
              "    (8): Conv2d(256, 512, kernel_size=(4, 4), stride=(2, 2), padding=(1, 1))\n",
              "    (9): BatchNorm2d(512, eps=1e-05, momentum=0.1, affine=True, track_running_stats=True)\n",
              "    (10): LeakyReLU(negative_slope=0.2)\n",
              "    (11): Conv2d(512, 1, kernel_size=(4, 4), stride=(2, 2))\n",
              "    (12): Sigmoid()\n",
              "  )\n",
              ")"
            ]
          },
          "metadata": {},
          "execution_count": 13
        }
      ],
      "source": [
        "# make both models train\n",
        "gen_model.train()\n",
        "disc_model.train()"
      ]
    },
    {
      "cell_type": "code",
      "execution_count": 14,
      "metadata": {
        "colab": {
          "base_uri": "https://localhost:8080/",
          "height": 34
        },
        "id": "u5MTh1FSR63-",
        "outputId": "29a27de5-fa4d-47f9-920d-ba3abbeede76"
      },
      "outputs": [
        {
          "output_type": "display_data",
          "data": {
            "text/plain": [
              "<IPython.core.display.HTML object>"
            ],
            "text/html": [
              "<pre>✔️ 1.13 ms (2023-05-29T22:05:38/2023-05-29T22:05:38)</pre>"
            ]
          },
          "metadata": {}
        }
      ],
      "source": [
        "# define a fixed noise \n",
        "fixed_noise = torch.randn(64, noise_channels, 1, 1).to(device)"
      ]
    },
    {
      "cell_type": "code",
      "execution_count": 15,
      "metadata": {
        "colab": {
          "base_uri": "https://localhost:8080/",
          "height": 52
        },
        "id": "jO629l3eSNvQ",
        "outputId": "ecd14700-f8b9-4573-8192-d96d8808436b"
      },
      "outputs": [
        {
          "output_type": "display_data",
          "data": {
            "text/plain": [
              "<IPython.core.display.HTML object>"
            ],
            "text/html": [
              "<pre>✔️ 4.94 ms (2023-05-29T22:05:40/2023-05-29T22:05:40)</pre>"
            ]
          },
          "metadata": {}
        },
        {
          "output_type": "stream",
          "name": "stdout",
          "text": [
            "Start training...\n"
          ]
        }
      ],
      "source": [
        "# define a step\n",
        "step = 0\n",
        "\n",
        "print(\"Start training...\")"
      ]
    },
    {
      "cell_type": "code",
      "execution_count": 16,
      "metadata": {
        "colab": {
          "base_uri": "https://localhost:8080/",
          "height": 34
        },
        "id": "-mQ1eUMGSTuM",
        "outputId": "be87beb5-a57e-4137-ff63-bca1196bbbe8"
      },
      "outputs": [
        {
          "output_type": "display_data",
          "data": {
            "text/plain": [
              "<IPython.core.display.HTML object>"
            ],
            "text/html": [
              "<pre>✔️ 10.6 ms (2023-05-29T22:05:41/2023-05-29T22:05:41)</pre>"
            ]
          },
          "metadata": {}
        }
      ],
      "source": [
        "#defining the writers : writer_real and writer_fake \n",
        "from torch.utils.tensorboard import SummaryWriter\n",
        "\n",
        "# Create the summary writers\n",
        "writer_real = SummaryWriter(log_dir='logs/real_images')\n",
        "writer_fake = SummaryWriter(log_dir='logs/fake_images')"
      ]
    },
    {
      "cell_type": "code",
      "execution_count": null,
      "metadata": {
        "colab": {
          "base_uri": "https://localhost:8080/",
          "height": 1000
        },
        "id": "LuODjTTESY_S",
        "outputId": "f35ab1a5-4db2-4252-b362-eb9d8f252910"
      },
      "outputs": [
        {
          "data": {
            "text/html": [
              "<pre>⌛ 2 h 27 min 48 s (2023-05-28T15:02:31)</pre>"
            ],
            "text/plain": [
              "<IPython.core.display.HTML object>"
            ]
          },
          "metadata": {},
          "output_type": "display_data"
        },
        {
          "name": "stdout",
          "output_type": "stream",
          "text": [
            "Mounted at /content/drive\n",
            "Epoch: 0 ===== Batch: 0/235 ===== Disc loss: 1.4290 ===== Gen loss: 4.2939\n",
            "Epoch: 0 ===== Batch: 50/235 ===== Disc loss: 0.7282 ===== Gen loss: 4.4392\n",
            "Epoch: 0 ===== Batch: 100/235 ===== Disc loss: 1.3627 ===== Gen loss: 5.9819\n",
            "Epoch: 0 ===== Batch: 150/235 ===== Disc loss: 1.2937 ===== Gen loss: 1.6898\n",
            "Epoch: 0 ===== Batch: 200/235 ===== Disc loss: 1.0125 ===== Gen loss: 1.2344\n",
            "Generated images saved at '/content/drive/MyDrive/Generated_Images/generated_images_epoch_0.png'\n",
            "Model checkpoint saved at '/content/drive/MyDrive/Generated_Images/model_checkpoint_epoch_0.pt'\n",
            "Epoch: 1 ===== Batch: 0/235 ===== Disc loss: 0.9796 ===== Gen loss: 2.2450\n",
            "Epoch: 1 ===== Batch: 50/235 ===== Disc loss: 1.2301 ===== Gen loss: 1.3734\n",
            "Epoch: 1 ===== Batch: 100/235 ===== Disc loss: 1.2071 ===== Gen loss: 1.6702\n",
            "Epoch: 1 ===== Batch: 150/235 ===== Disc loss: 1.1646 ===== Gen loss: 0.9047\n",
            "Epoch: 1 ===== Batch: 200/235 ===== Disc loss: 1.2649 ===== Gen loss: 1.5809\n",
            "Generated images saved at '/content/drive/MyDrive/Generated_Images/generated_images_epoch_1.png'\n",
            "Model checkpoint saved at '/content/drive/MyDrive/Generated_Images/model_checkpoint_epoch_1.pt'\n",
            "Epoch: 2 ===== Batch: 0/235 ===== Disc loss: 1.3156 ===== Gen loss: 1.7221\n",
            "Epoch: 2 ===== Batch: 50/235 ===== Disc loss: 1.1761 ===== Gen loss: 1.1755\n",
            "Epoch: 2 ===== Batch: 100/235 ===== Disc loss: 1.3057 ===== Gen loss: 1.8182\n",
            "Epoch: 2 ===== Batch: 150/235 ===== Disc loss: 1.2507 ===== Gen loss: 0.9607\n",
            "Epoch: 2 ===== Batch: 200/235 ===== Disc loss: 1.2258 ===== Gen loss: 1.0324\n",
            "Generated images saved at '/content/drive/MyDrive/Generated_Images/generated_images_epoch_2.png'\n",
            "Model checkpoint saved at '/content/drive/MyDrive/Generated_Images/model_checkpoint_epoch_2.pt'\n",
            "Epoch: 3 ===== Batch: 0/235 ===== Disc loss: 1.3070 ===== Gen loss: 0.8499\n",
            "Epoch: 3 ===== Batch: 50/235 ===== Disc loss: 1.1443 ===== Gen loss: 1.6077\n",
            "Epoch: 3 ===== Batch: 100/235 ===== Disc loss: 1.1803 ===== Gen loss: 1.0127\n",
            "Epoch: 3 ===== Batch: 150/235 ===== Disc loss: 1.1005 ===== Gen loss: 0.9571\n",
            "Epoch: 3 ===== Batch: 200/235 ===== Disc loss: 1.4055 ===== Gen loss: 2.2763\n",
            "Generated images saved at '/content/drive/MyDrive/Generated_Images/generated_images_epoch_3.png'\n",
            "Model checkpoint saved at '/content/drive/MyDrive/Generated_Images/model_checkpoint_epoch_3.pt'\n",
            "Epoch: 4 ===== Batch: 0/235 ===== Disc loss: 1.5274 ===== Gen loss: 0.5599\n",
            "Epoch: 4 ===== Batch: 50/235 ===== Disc loss: 0.9808 ===== Gen loss: 1.5148\n",
            "Epoch: 4 ===== Batch: 100/235 ===== Disc loss: 1.1597 ===== Gen loss: 1.0134\n",
            "Epoch: 4 ===== Batch: 150/235 ===== Disc loss: 1.1050 ===== Gen loss: 1.1582\n",
            "Epoch: 4 ===== Batch: 200/235 ===== Disc loss: 0.9641 ===== Gen loss: 1.3229\n",
            "Generated images saved at '/content/drive/MyDrive/Generated_Images/generated_images_epoch_4.png'\n",
            "Model checkpoint saved at '/content/drive/MyDrive/Generated_Images/model_checkpoint_epoch_4.pt'\n",
            "Epoch: 5 ===== Batch: 0/235 ===== Disc loss: 1.1037 ===== Gen loss: 2.0153\n",
            "Epoch: 5 ===== Batch: 50/235 ===== Disc loss: 0.9371 ===== Gen loss: 2.5448\n",
            "Epoch: 5 ===== Batch: 100/235 ===== Disc loss: 1.4650 ===== Gen loss: 2.3761\n",
            "Epoch: 5 ===== Batch: 150/235 ===== Disc loss: 0.9688 ===== Gen loss: 1.9621\n",
            "Epoch: 5 ===== Batch: 200/235 ===== Disc loss: 1.2597 ===== Gen loss: 1.2623\n",
            "Generated images saved at '/content/drive/MyDrive/Generated_Images/generated_images_epoch_5.png'\n",
            "Model checkpoint saved at '/content/drive/MyDrive/Generated_Images/model_checkpoint_epoch_5.pt'\n",
            "Epoch: 6 ===== Batch: 0/235 ===== Disc loss: 0.7676 ===== Gen loss: 2.0295\n",
            "Epoch: 6 ===== Batch: 50/235 ===== Disc loss: 0.9644 ===== Gen loss: 2.2521\n",
            "Epoch: 6 ===== Batch: 100/235 ===== Disc loss: 1.5227 ===== Gen loss: 0.9466\n",
            "Epoch: 6 ===== Batch: 150/235 ===== Disc loss: 0.9979 ===== Gen loss: 2.2657\n",
            "Epoch: 6 ===== Batch: 200/235 ===== Disc loss: 0.8284 ===== Gen loss: 2.0890\n",
            "Generated images saved at '/content/drive/MyDrive/Generated_Images/generated_images_epoch_6.png'\n",
            "Model checkpoint saved at '/content/drive/MyDrive/Generated_Images/model_checkpoint_epoch_6.pt'\n",
            "Epoch: 7 ===== Batch: 0/235 ===== Disc loss: 0.9914 ===== Gen loss: 1.9060\n",
            "Epoch: 7 ===== Batch: 50/235 ===== Disc loss: 0.7753 ===== Gen loss: 1.7572\n",
            "Epoch: 7 ===== Batch: 100/235 ===== Disc loss: 0.9452 ===== Gen loss: 1.5768\n",
            "Epoch: 7 ===== Batch: 150/235 ===== Disc loss: 0.8681 ===== Gen loss: 2.8665\n",
            "Epoch: 7 ===== Batch: 200/235 ===== Disc loss: 0.9161 ===== Gen loss: 2.3820\n",
            "Generated images saved at '/content/drive/MyDrive/Generated_Images/generated_images_epoch_7.png'\n",
            "Model checkpoint saved at '/content/drive/MyDrive/Generated_Images/model_checkpoint_epoch_7.pt'\n",
            "Epoch: 8 ===== Batch: 0/235 ===== Disc loss: 0.8099 ===== Gen loss: 2.6780\n",
            "Epoch: 8 ===== Batch: 50/235 ===== Disc loss: 0.8196 ===== Gen loss: 1.9476\n",
            "Epoch: 8 ===== Batch: 100/235 ===== Disc loss: 0.8181 ===== Gen loss: 2.4122\n",
            "Epoch: 8 ===== Batch: 150/235 ===== Disc loss: 0.8489 ===== Gen loss: 2.1684\n",
            "Epoch: 8 ===== Batch: 200/235 ===== Disc loss: 1.1141 ===== Gen loss: 4.4666\n",
            "Generated images saved at '/content/drive/MyDrive/Generated_Images/generated_images_epoch_8.png'\n",
            "Model checkpoint saved at '/content/drive/MyDrive/Generated_Images/model_checkpoint_epoch_8.pt'\n",
            "Epoch: 9 ===== Batch: 0/235 ===== Disc loss: 0.7783 ===== Gen loss: 2.2951\n",
            "Epoch: 9 ===== Batch: 50/235 ===== Disc loss: 1.0678 ===== Gen loss: 3.2737\n",
            "Epoch: 9 ===== Batch: 100/235 ===== Disc loss: 1.1143 ===== Gen loss: 4.8894\n",
            "Epoch: 9 ===== Batch: 150/235 ===== Disc loss: 1.2932 ===== Gen loss: 3.3580\n",
            "Epoch: 9 ===== Batch: 200/235 ===== Disc loss: 0.8909 ===== Gen loss: 1.4750\n",
            "Generated images saved at '/content/drive/MyDrive/Generated_Images/generated_images_epoch_9.png'\n",
            "Model checkpoint saved at '/content/drive/MyDrive/Generated_Images/model_checkpoint_epoch_9.pt'\n",
            "Epoch: 10 ===== Batch: 0/235 ===== Disc loss: 1.1117 ===== Gen loss: 2.2104\n",
            "Epoch: 10 ===== Batch: 50/235 ===== Disc loss: 0.9758 ===== Gen loss: 1.4979\n",
            "Epoch: 10 ===== Batch: 100/235 ===== Disc loss: 1.0807 ===== Gen loss: 1.3503\n",
            "Epoch: 10 ===== Batch: 150/235 ===== Disc loss: 0.8919 ===== Gen loss: 2.8413\n",
            "Epoch: 10 ===== Batch: 200/235 ===== Disc loss: 0.8932 ===== Gen loss: 3.2526\n",
            "Generated images saved at '/content/drive/MyDrive/Generated_Images/generated_images_epoch_10.png'\n",
            "Model checkpoint saved at '/content/drive/MyDrive/Generated_Images/model_checkpoint_epoch_10.pt'\n",
            "Epoch: 11 ===== Batch: 0/235 ===== Disc loss: 1.0396 ===== Gen loss: 4.4092\n",
            "Epoch: 11 ===== Batch: 50/235 ===== Disc loss: 0.7869 ===== Gen loss: 2.2825\n",
            "Epoch: 11 ===== Batch: 100/235 ===== Disc loss: 0.8877 ===== Gen loss: 1.6813\n",
            "Epoch: 11 ===== Batch: 150/235 ===== Disc loss: 1.4306 ===== Gen loss: 4.4651\n",
            "Epoch: 11 ===== Batch: 200/235 ===== Disc loss: 0.7985 ===== Gen loss: 3.3784\n",
            "Generated images saved at '/content/drive/MyDrive/Generated_Images/generated_images_epoch_11.png'\n",
            "Model checkpoint saved at '/content/drive/MyDrive/Generated_Images/model_checkpoint_epoch_11.pt'\n",
            "Epoch: 12 ===== Batch: 0/235 ===== Disc loss: 0.7741 ===== Gen loss: 1.8225\n",
            "Epoch: 12 ===== Batch: 50/235 ===== Disc loss: 0.8081 ===== Gen loss: 2.4057\n",
            "Epoch: 12 ===== Batch: 100/235 ===== Disc loss: 0.7211 ===== Gen loss: 1.8498\n",
            "Epoch: 12 ===== Batch: 150/235 ===== Disc loss: 2.0993 ===== Gen loss: 0.3922\n",
            "Epoch: 12 ===== Batch: 200/235 ===== Disc loss: 1.0102 ===== Gen loss: 4.6153\n",
            "Generated images saved at '/content/drive/MyDrive/Generated_Images/generated_images_epoch_12.png'\n",
            "Model checkpoint saved at '/content/drive/MyDrive/Generated_Images/model_checkpoint_epoch_12.pt'\n",
            "Epoch: 13 ===== Batch: 0/235 ===== Disc loss: 0.8621 ===== Gen loss: 3.4229\n",
            "Epoch: 13 ===== Batch: 50/235 ===== Disc loss: 0.6893 ===== Gen loss: 2.0930\n",
            "Epoch: 13 ===== Batch: 100/235 ===== Disc loss: 0.6913 ===== Gen loss: 2.4514\n",
            "Epoch: 13 ===== Batch: 150/235 ===== Disc loss: 0.9989 ===== Gen loss: 3.5356\n",
            "Epoch: 13 ===== Batch: 200/235 ===== Disc loss: 0.6992 ===== Gen loss: 1.9221\n",
            "Generated images saved at '/content/drive/MyDrive/Generated_Images/generated_images_epoch_13.png'\n",
            "Model checkpoint saved at '/content/drive/MyDrive/Generated_Images/model_checkpoint_epoch_13.pt'\n",
            "Epoch: 14 ===== Batch: 0/235 ===== Disc loss: 0.9438 ===== Gen loss: 2.0102\n",
            "Epoch: 14 ===== Batch: 50/235 ===== Disc loss: 0.6722 ===== Gen loss: 2.0511\n",
            "Epoch: 14 ===== Batch: 100/235 ===== Disc loss: 0.8090 ===== Gen loss: 2.5331\n",
            "Epoch: 14 ===== Batch: 150/235 ===== Disc loss: 0.7828 ===== Gen loss: 1.9005\n",
            "Epoch: 14 ===== Batch: 200/235 ===== Disc loss: 0.7924 ===== Gen loss: 2.4466\n",
            "Generated images saved at '/content/drive/MyDrive/Generated_Images/generated_images_epoch_14.png'\n",
            "Model checkpoint saved at '/content/drive/MyDrive/Generated_Images/model_checkpoint_epoch_14.pt'\n",
            "Epoch: 15 ===== Batch: 0/235 ===== Disc loss: 0.6723 ===== Gen loss: 2.3514\n",
            "Epoch: 15 ===== Batch: 50/235 ===== Disc loss: 0.7480 ===== Gen loss: 2.5301\n",
            "Epoch: 15 ===== Batch: 100/235 ===== Disc loss: 0.8657 ===== Gen loss: 1.5188\n",
            "Epoch: 15 ===== Batch: 150/235 ===== Disc loss: 0.7134 ===== Gen loss: 2.5039\n",
            "Epoch: 15 ===== Batch: 200/235 ===== Disc loss: 0.6852 ===== Gen loss: 2.0808\n",
            "Generated images saved at '/content/drive/MyDrive/Generated_Images/generated_images_epoch_15.png'\n",
            "Model checkpoint saved at '/content/drive/MyDrive/Generated_Images/model_checkpoint_epoch_15.pt'\n",
            "Epoch: 16 ===== Batch: 0/235 ===== Disc loss: 1.3311 ===== Gen loss: 0.6264\n",
            "Epoch: 16 ===== Batch: 50/235 ===== Disc loss: 1.6904 ===== Gen loss: 4.1617\n",
            "Epoch: 16 ===== Batch: 100/235 ===== Disc loss: 0.7561 ===== Gen loss: 1.7440\n",
            "Epoch: 16 ===== Batch: 150/235 ===== Disc loss: 0.7443 ===== Gen loss: 2.1007\n",
            "Epoch: 16 ===== Batch: 200/235 ===== Disc loss: 0.6762 ===== Gen loss: 2.4495\n",
            "Generated images saved at '/content/drive/MyDrive/Generated_Images/generated_images_epoch_16.png'\n",
            "Model checkpoint saved at '/content/drive/MyDrive/Generated_Images/model_checkpoint_epoch_16.pt'\n",
            "Epoch: 17 ===== Batch: 0/235 ===== Disc loss: 1.2480 ===== Gen loss: 5.7531\n",
            "Epoch: 17 ===== Batch: 50/235 ===== Disc loss: 0.8352 ===== Gen loss: 2.5547\n",
            "Epoch: 17 ===== Batch: 100/235 ===== Disc loss: 0.7072 ===== Gen loss: 2.4896\n",
            "Epoch: 17 ===== Batch: 150/235 ===== Disc loss: 0.6769 ===== Gen loss: 2.4724\n",
            "Epoch: 17 ===== Batch: 200/235 ===== Disc loss: 0.6745 ===== Gen loss: 2.2701\n",
            "Generated images saved at '/content/drive/MyDrive/Generated_Images/generated_images_epoch_17.png'\n",
            "Model checkpoint saved at '/content/drive/MyDrive/Generated_Images/model_checkpoint_epoch_17.pt'\n",
            "Epoch: 18 ===== Batch: 0/235 ===== Disc loss: 0.6994 ===== Gen loss: 2.0056\n",
            "Epoch: 18 ===== Batch: 50/235 ===== Disc loss: 0.7897 ===== Gen loss: 2.8276\n",
            "Epoch: 18 ===== Batch: 100/235 ===== Disc loss: 0.7143 ===== Gen loss: 2.0626\n",
            "Epoch: 18 ===== Batch: 150/235 ===== Disc loss: 0.8818 ===== Gen loss: 1.6268\n",
            "Epoch: 18 ===== Batch: 200/235 ===== Disc loss: 0.6893 ===== Gen loss: 1.9904\n",
            "Generated images saved at '/content/drive/MyDrive/Generated_Images/generated_images_epoch_18.png'\n",
            "Model checkpoint saved at '/content/drive/MyDrive/Generated_Images/model_checkpoint_epoch_18.pt'\n",
            "Epoch: 19 ===== Batch: 0/235 ===== Disc loss: 1.3597 ===== Gen loss: 4.6658\n",
            "Epoch: 19 ===== Batch: 50/235 ===== Disc loss: 0.6789 ===== Gen loss: 2.2145\n",
            "Epoch: 19 ===== Batch: 100/235 ===== Disc loss: 0.9803 ===== Gen loss: 1.6930\n",
            "Epoch: 19 ===== Batch: 150/235 ===== Disc loss: 0.8870 ===== Gen loss: 2.8478\n",
            "Epoch: 19 ===== Batch: 200/235 ===== Disc loss: 0.7764 ===== Gen loss: 1.6232\n",
            "Generated images saved at '/content/drive/MyDrive/Generated_Images/generated_images_epoch_19.png'\n",
            "Model checkpoint saved at '/content/drive/MyDrive/Generated_Images/model_checkpoint_epoch_19.pt'\n",
            "Epoch: 20 ===== Batch: 0/235 ===== Disc loss: 0.7825 ===== Gen loss: 2.2529\n",
            "Epoch: 20 ===== Batch: 50/235 ===== Disc loss: 0.7349 ===== Gen loss: 3.2135\n",
            "Epoch: 20 ===== Batch: 100/235 ===== Disc loss: 0.6832 ===== Gen loss: 2.2262\n",
            "Epoch: 20 ===== Batch: 150/235 ===== Disc loss: 1.6077 ===== Gen loss: 0.5416\n",
            "Epoch: 20 ===== Batch: 200/235 ===== Disc loss: 0.6925 ===== Gen loss: 2.0872\n",
            "Generated images saved at '/content/drive/MyDrive/Generated_Images/generated_images_epoch_20.png'\n",
            "Model checkpoint saved at '/content/drive/MyDrive/Generated_Images/model_checkpoint_epoch_20.pt'\n",
            "Epoch: 21 ===== Batch: 0/235 ===== Disc loss: 0.9079 ===== Gen loss: 2.8307\n",
            "Epoch: 21 ===== Batch: 50/235 ===== Disc loss: 0.6975 ===== Gen loss: 2.6560\n",
            "Epoch: 21 ===== Batch: 100/235 ===== Disc loss: 0.8706 ===== Gen loss: 1.5739\n",
            "Epoch: 21 ===== Batch: 150/235 ===== Disc loss: 0.7577 ===== Gen loss: 2.6528\n",
            "Epoch: 21 ===== Batch: 200/235 ===== Disc loss: 0.9923 ===== Gen loss: 2.3176\n",
            "Generated images saved at '/content/drive/MyDrive/Generated_Images/generated_images_epoch_21.png'\n",
            "Model checkpoint saved at '/content/drive/MyDrive/Generated_Images/model_checkpoint_epoch_21.pt'\n",
            "Epoch: 22 ===== Batch: 0/235 ===== Disc loss: 1.0575 ===== Gen loss: 1.7436\n",
            "Epoch: 22 ===== Batch: 50/235 ===== Disc loss: 0.7920 ===== Gen loss: 1.1466\n",
            "Epoch: 22 ===== Batch: 100/235 ===== Disc loss: 0.9784 ===== Gen loss: 2.5368\n",
            "Epoch: 22 ===== Batch: 150/235 ===== Disc loss: 0.7391 ===== Gen loss: 1.7818\n",
            "Epoch: 22 ===== Batch: 200/235 ===== Disc loss: 0.7210 ===== Gen loss: 2.0532\n",
            "Generated images saved at '/content/drive/MyDrive/Generated_Images/generated_images_epoch_22.png'\n",
            "Model checkpoint saved at '/content/drive/MyDrive/Generated_Images/model_checkpoint_epoch_22.pt'\n",
            "Epoch: 23 ===== Batch: 0/235 ===== Disc loss: 0.6811 ===== Gen loss: 2.3418\n",
            "Epoch: 23 ===== Batch: 50/235 ===== Disc loss: 1.2667 ===== Gen loss: 1.2037\n",
            "Epoch: 23 ===== Batch: 100/235 ===== Disc loss: 0.6770 ===== Gen loss: 2.5838\n",
            "Epoch: 23 ===== Batch: 150/235 ===== Disc loss: 0.8211 ===== Gen loss: 2.1661\n",
            "Epoch: 23 ===== Batch: 200/235 ===== Disc loss: 0.8212 ===== Gen loss: 3.5209\n",
            "Generated images saved at '/content/drive/MyDrive/Generated_Images/generated_images_epoch_23.png'\n",
            "Model checkpoint saved at '/content/drive/MyDrive/Generated_Images/model_checkpoint_epoch_23.pt'\n",
            "Epoch: 24 ===== Batch: 0/235 ===== Disc loss: 0.6992 ===== Gen loss: 2.6671\n",
            "Epoch: 24 ===== Batch: 50/235 ===== Disc loss: 0.7379 ===== Gen loss: 3.3105\n",
            "Epoch: 24 ===== Batch: 100/235 ===== Disc loss: 1.7538 ===== Gen loss: 0.9000\n",
            "Epoch: 24 ===== Batch: 150/235 ===== Disc loss: 0.9074 ===== Gen loss: 1.5717\n",
            "Epoch: 24 ===== Batch: 200/235 ===== Disc loss: 0.8354 ===== Gen loss: 3.6034\n",
            "Generated images saved at '/content/drive/MyDrive/Generated_Images/generated_images_epoch_24.png'\n",
            "Model checkpoint saved at '/content/drive/MyDrive/Generated_Images/model_checkpoint_epoch_24.pt'\n",
            "Epoch: 25 ===== Batch: 0/235 ===== Disc loss: 0.6818 ===== Gen loss: 2.2712\n",
            "Epoch: 25 ===== Batch: 50/235 ===== Disc loss: 0.6783 ===== Gen loss: 2.2150\n",
            "Epoch: 25 ===== Batch: 100/235 ===== Disc loss: 0.9003 ===== Gen loss: 1.9378\n",
            "Epoch: 25 ===== Batch: 150/235 ===== Disc loss: 0.6985 ===== Gen loss: 2.0022\n",
            "Epoch: 25 ===== Batch: 200/235 ===== Disc loss: 0.7005 ===== Gen loss: 3.2757\n",
            "Generated images saved at '/content/drive/MyDrive/Generated_Images/generated_images_epoch_25.png'\n",
            "Model checkpoint saved at '/content/drive/MyDrive/Generated_Images/model_checkpoint_epoch_25.pt'\n",
            "Epoch: 26 ===== Batch: 0/235 ===== Disc loss: 0.7217 ===== Gen loss: 2.3429\n",
            "Epoch: 26 ===== Batch: 50/235 ===== Disc loss: 0.7603 ===== Gen loss: 3.3097\n",
            "Epoch: 26 ===== Batch: 100/235 ===== Disc loss: 0.6845 ===== Gen loss: 2.1493\n",
            "Epoch: 26 ===== Batch: 150/235 ===== Disc loss: 0.6877 ===== Gen loss: 2.7750\n",
            "Epoch: 26 ===== Batch: 200/235 ===== Disc loss: 0.6887 ===== Gen loss: 2.1940\n",
            "Generated images saved at '/content/drive/MyDrive/Generated_Images/generated_images_epoch_26.png'\n",
            "Model checkpoint saved at '/content/drive/MyDrive/Generated_Images/model_checkpoint_epoch_26.pt'\n",
            "Epoch: 27 ===== Batch: 0/235 ===== Disc loss: 0.9215 ===== Gen loss: 2.8022\n",
            "Epoch: 27 ===== Batch: 50/235 ===== Disc loss: 0.6755 ===== Gen loss: 2.3567\n",
            "Epoch: 27 ===== Batch: 100/235 ===== Disc loss: 0.7269 ===== Gen loss: 2.0914\n",
            "Epoch: 27 ===== Batch: 150/235 ===== Disc loss: 0.8621 ===== Gen loss: 1.6260\n",
            "Epoch: 27 ===== Batch: 200/235 ===== Disc loss: 0.8959 ===== Gen loss: 2.8302\n",
            "Generated images saved at '/content/drive/MyDrive/Generated_Images/generated_images_epoch_27.png'\n",
            "Model checkpoint saved at '/content/drive/MyDrive/Generated_Images/model_checkpoint_epoch_27.pt'\n",
            "Epoch: 28 ===== Batch: 0/235 ===== Disc loss: 1.1053 ===== Gen loss: 1.4728\n",
            "Epoch: 28 ===== Batch: 50/235 ===== Disc loss: 0.6733 ===== Gen loss: 2.5066\n",
            "Epoch: 28 ===== Batch: 100/235 ===== Disc loss: 0.6703 ===== Gen loss: 2.3097\n",
            "Epoch: 28 ===== Batch: 150/235 ===== Disc loss: 0.6687 ===== Gen loss: 2.2652\n",
            "Epoch: 28 ===== Batch: 200/235 ===== Disc loss: 0.7735 ===== Gen loss: 2.2739\n",
            "Generated images saved at '/content/drive/MyDrive/Generated_Images/generated_images_epoch_28.png'\n",
            "Model checkpoint saved at '/content/drive/MyDrive/Generated_Images/model_checkpoint_epoch_28.pt'\n",
            "Epoch: 29 ===== Batch: 0/235 ===== Disc loss: 0.7975 ===== Gen loss: 2.5405\n",
            "Epoch: 29 ===== Batch: 50/235 ===== Disc loss: 0.7321 ===== Gen loss: 3.2750\n",
            "Epoch: 29 ===== Batch: 100/235 ===== Disc loss: 0.7539 ===== Gen loss: 1.3793\n",
            "Epoch: 29 ===== Batch: 150/235 ===== Disc loss: 0.7224 ===== Gen loss: 3.3742\n",
            "Epoch: 29 ===== Batch: 200/235 ===== Disc loss: 0.9240 ===== Gen loss: 3.7058\n",
            "Generated images saved at '/content/drive/MyDrive/Generated_Images/generated_images_epoch_29.png'\n",
            "Model checkpoint saved at '/content/drive/MyDrive/Generated_Images/model_checkpoint_epoch_29.pt'\n",
            "Epoch: 30 ===== Batch: 0/235 ===== Disc loss: 0.6877 ===== Gen loss: 2.7828\n",
            "Epoch: 30 ===== Batch: 50/235 ===== Disc loss: 1.5783 ===== Gen loss: 1.1421\n",
            "Epoch: 30 ===== Batch: 100/235 ===== Disc loss: 0.6675 ===== Gen loss: 2.2365\n",
            "Epoch: 30 ===== Batch: 150/235 ===== Disc loss: 0.8441 ===== Gen loss: 2.6488\n",
            "Epoch: 30 ===== Batch: 200/235 ===== Disc loss: 0.6732 ===== Gen loss: 2.4081\n",
            "Generated images saved at '/content/drive/MyDrive/Generated_Images/generated_images_epoch_30.png'\n",
            "Model checkpoint saved at '/content/drive/MyDrive/Generated_Images/model_checkpoint_epoch_30.pt'\n",
            "Epoch: 31 ===== Batch: 0/235 ===== Disc loss: 0.6958 ===== Gen loss: 1.9743\n",
            "Epoch: 31 ===== Batch: 50/235 ===== Disc loss: 0.8137 ===== Gen loss: 3.1410\n",
            "Epoch: 31 ===== Batch: 100/235 ===== Disc loss: 0.7677 ===== Gen loss: 2.4320\n",
            "Epoch: 31 ===== Batch: 150/235 ===== Disc loss: 1.3986 ===== Gen loss: 3.1458\n",
            "Epoch: 31 ===== Batch: 200/235 ===== Disc loss: 0.6919 ===== Gen loss: 2.4123\n",
            "Generated images saved at '/content/drive/MyDrive/Generated_Images/generated_images_epoch_31.png'\n",
            "Model checkpoint saved at '/content/drive/MyDrive/Generated_Images/model_checkpoint_epoch_31.pt'\n",
            "Epoch: 32 ===== Batch: 0/235 ===== Disc loss: 0.6779 ===== Gen loss: 2.2787\n",
            "Epoch: 32 ===== Batch: 50/235 ===== Disc loss: 0.7236 ===== Gen loss: 2.7774\n",
            "Epoch: 32 ===== Batch: 100/235 ===== Disc loss: 0.7348 ===== Gen loss: 3.4165\n",
            "Epoch: 32 ===== Batch: 150/235 ===== Disc loss: 0.9735 ===== Gen loss: 3.0064\n",
            "Epoch: 32 ===== Batch: 200/235 ===== Disc loss: 0.7821 ===== Gen loss: 1.8029\n",
            "Generated images saved at '/content/drive/MyDrive/Generated_Images/generated_images_epoch_32.png'\n",
            "Model checkpoint saved at '/content/drive/MyDrive/Generated_Images/model_checkpoint_epoch_32.pt'\n",
            "Epoch: 33 ===== Batch: 0/235 ===== Disc loss: 0.6965 ===== Gen loss: 2.2752\n",
            "Epoch: 33 ===== Batch: 50/235 ===== Disc loss: 0.7119 ===== Gen loss: 2.8875\n",
            "Epoch: 33 ===== Batch: 100/235 ===== Disc loss: 1.1930 ===== Gen loss: 3.7306\n",
            "Epoch: 33 ===== Batch: 150/235 ===== Disc loss: 0.8366 ===== Gen loss: 3.7362\n",
            "Epoch: 33 ===== Batch: 200/235 ===== Disc loss: 0.6717 ===== Gen loss: 2.5225\n",
            "Generated images saved at '/content/drive/MyDrive/Generated_Images/generated_images_epoch_33.png'\n",
            "Model checkpoint saved at '/content/drive/MyDrive/Generated_Images/model_checkpoint_epoch_33.pt'\n",
            "Epoch: 34 ===== Batch: 0/235 ===== Disc loss: 0.7943 ===== Gen loss: 3.8292\n",
            "Epoch: 34 ===== Batch: 50/235 ===== Disc loss: 0.7637 ===== Gen loss: 3.2431\n",
            "Epoch: 34 ===== Batch: 100/235 ===== Disc loss: 0.7149 ===== Gen loss: 3.1072\n",
            "Epoch: 34 ===== Batch: 150/235 ===== Disc loss: 0.7377 ===== Gen loss: 1.5117\n",
            "Epoch: 34 ===== Batch: 200/235 ===== Disc loss: 1.9811 ===== Gen loss: 3.0022\n",
            "Generated images saved at '/content/drive/MyDrive/Generated_Images/generated_images_epoch_34.png'\n",
            "Model checkpoint saved at '/content/drive/MyDrive/Generated_Images/model_checkpoint_epoch_34.pt'\n",
            "Epoch: 35 ===== Batch: 0/235 ===== Disc loss: 0.7127 ===== Gen loss: 1.7176\n",
            "Epoch: 35 ===== Batch: 50/235 ===== Disc loss: 0.6925 ===== Gen loss: 2.4038\n",
            "Epoch: 35 ===== Batch: 100/235 ===== Disc loss: 1.1525 ===== Gen loss: 0.9016\n",
            "Epoch: 35 ===== Batch: 150/235 ===== Disc loss: 1.0659 ===== Gen loss: 2.5789\n",
            "Epoch: 35 ===== Batch: 200/235 ===== Disc loss: 0.7235 ===== Gen loss: 2.6400\n",
            "Generated images saved at '/content/drive/MyDrive/Generated_Images/generated_images_epoch_35.png'\n",
            "Model checkpoint saved at '/content/drive/MyDrive/Generated_Images/model_checkpoint_epoch_35.pt'\n",
            "Epoch: 36 ===== Batch: 0/235 ===== Disc loss: 0.6728 ===== Gen loss: 2.4443\n",
            "Epoch: 36 ===== Batch: 50/235 ===== Disc loss: 0.6699 ===== Gen loss: 2.2905\n",
            "Epoch: 36 ===== Batch: 100/235 ===== Disc loss: 2.0307 ===== Gen loss: 0.3346\n",
            "Epoch: 36 ===== Batch: 150/235 ===== Disc loss: 0.6806 ===== Gen loss: 2.2075\n",
            "Epoch: 36 ===== Batch: 200/235 ===== Disc loss: 1.3164 ===== Gen loss: 0.9454\n",
            "Generated images saved at '/content/drive/MyDrive/Generated_Images/generated_images_epoch_36.png'\n",
            "Model checkpoint saved at '/content/drive/MyDrive/Generated_Images/model_checkpoint_epoch_36.pt'\n",
            "Epoch: 37 ===== Batch: 0/235 ===== Disc loss: 0.6733 ===== Gen loss: 2.6385\n",
            "Epoch: 37 ===== Batch: 50/235 ===== Disc loss: 0.6823 ===== Gen loss: 2.1346\n",
            "Epoch: 37 ===== Batch: 100/235 ===== Disc loss: 0.7731 ===== Gen loss: 3.2238\n",
            "Epoch: 37 ===== Batch: 150/235 ===== Disc loss: 0.7399 ===== Gen loss: 1.7319\n",
            "Epoch: 37 ===== Batch: 200/235 ===== Disc loss: 0.9618 ===== Gen loss: 1.6843\n",
            "Generated images saved at '/content/drive/MyDrive/Generated_Images/generated_images_epoch_37.png'\n",
            "Model checkpoint saved at '/content/drive/MyDrive/Generated_Images/model_checkpoint_epoch_37.pt'\n",
            "Epoch: 38 ===== Batch: 0/235 ===== Disc loss: 0.6748 ===== Gen loss: 2.0764\n",
            "Epoch: 38 ===== Batch: 50/235 ===== Disc loss: 0.6836 ===== Gen loss: 2.1505\n",
            "Epoch: 38 ===== Batch: 100/235 ===== Disc loss: 0.6876 ===== Gen loss: 2.0901\n",
            "Epoch: 38 ===== Batch: 150/235 ===== Disc loss: 0.7384 ===== Gen loss: 2.1893\n",
            "Epoch: 38 ===== Batch: 200/235 ===== Disc loss: 0.6645 ===== Gen loss: 2.5185\n",
            "Generated images saved at '/content/drive/MyDrive/Generated_Images/generated_images_epoch_38.png'\n",
            "Model checkpoint saved at '/content/drive/MyDrive/Generated_Images/model_checkpoint_epoch_38.pt'\n",
            "Epoch: 39 ===== Batch: 0/235 ===== Disc loss: 0.7595 ===== Gen loss: 2.9227\n",
            "Epoch: 39 ===== Batch: 50/235 ===== Disc loss: 0.6851 ===== Gen loss: 1.9963\n",
            "Epoch: 39 ===== Batch: 100/235 ===== Disc loss: 0.6954 ===== Gen loss: 2.5073\n",
            "Epoch: 39 ===== Batch: 150/235 ===== Disc loss: 0.6740 ===== Gen loss: 2.0443\n",
            "Epoch: 39 ===== Batch: 200/235 ===== Disc loss: 0.6944 ===== Gen loss: 2.9175\n",
            "Generated images saved at '/content/drive/MyDrive/Generated_Images/generated_images_epoch_39.png'\n",
            "Model checkpoint saved at '/content/drive/MyDrive/Generated_Images/model_checkpoint_epoch_39.pt'\n",
            "Epoch: 40 ===== Batch: 0/235 ===== Disc loss: 0.7925 ===== Gen loss: 2.0602\n",
            "Epoch: 40 ===== Batch: 50/235 ===== Disc loss: 0.7918 ===== Gen loss: 1.5087\n",
            "Epoch: 40 ===== Batch: 100/235 ===== Disc loss: 0.7019 ===== Gen loss: 2.8794\n",
            "Epoch: 40 ===== Batch: 150/235 ===== Disc loss: 0.8457 ===== Gen loss: 3.0032\n",
            "Epoch: 40 ===== Batch: 200/235 ===== Disc loss: 0.7447 ===== Gen loss: 3.3355\n",
            "Generated images saved at '/content/drive/MyDrive/Generated_Images/generated_images_epoch_40.png'\n",
            "Model checkpoint saved at '/content/drive/MyDrive/Generated_Images/model_checkpoint_epoch_40.pt'\n",
            "Epoch: 41 ===== Batch: 0/235 ===== Disc loss: 0.8481 ===== Gen loss: 2.1377\n",
            "Epoch: 41 ===== Batch: 50/235 ===== Disc loss: 0.6850 ===== Gen loss: 2.5889\n",
            "Epoch: 41 ===== Batch: 100/235 ===== Disc loss: 0.6930 ===== Gen loss: 1.8970\n",
            "Epoch: 41 ===== Batch: 150/235 ===== Disc loss: 0.7366 ===== Gen loss: 3.2393\n",
            "Epoch: 41 ===== Batch: 200/235 ===== Disc loss: 0.6688 ===== Gen loss: 2.3546\n",
            "Generated images saved at '/content/drive/MyDrive/Generated_Images/generated_images_epoch_41.png'\n",
            "Model checkpoint saved at '/content/drive/MyDrive/Generated_Images/model_checkpoint_epoch_41.pt'\n",
            "Epoch: 42 ===== Batch: 0/235 ===== Disc loss: 0.7942 ===== Gen loss: 1.9098\n",
            "Epoch: 42 ===== Batch: 50/235 ===== Disc loss: 0.6884 ===== Gen loss: 2.0962\n",
            "Epoch: 42 ===== Batch: 100/235 ===== Disc loss: 0.9518 ===== Gen loss: 2.7962\n",
            "Epoch: 42 ===== Batch: 150/235 ===== Disc loss: 0.6789 ===== Gen loss: 2.4085\n",
            "Epoch: 42 ===== Batch: 200/235 ===== Disc loss: 0.7648 ===== Gen loss: 2.5750\n",
            "Generated images saved at '/content/drive/MyDrive/Generated_Images/generated_images_epoch_42.png'\n",
            "Model checkpoint saved at '/content/drive/MyDrive/Generated_Images/model_checkpoint_epoch_42.pt'\n",
            "Epoch: 43 ===== Batch: 0/235 ===== Disc loss: 0.6751 ===== Gen loss: 2.7041\n",
            "Epoch: 43 ===== Batch: 50/235 ===== Disc loss: 0.6788 ===== Gen loss: 2.8230\n",
            "Epoch: 43 ===== Batch: 100/235 ===== Disc loss: 0.7369 ===== Gen loss: 2.0653\n",
            "Epoch: 43 ===== Batch: 150/235 ===== Disc loss: 0.7189 ===== Gen loss: 1.9865\n",
            "Epoch: 43 ===== Batch: 200/235 ===== Disc loss: 1.0054 ===== Gen loss: 1.4095\n",
            "Generated images saved at '/content/drive/MyDrive/Generated_Images/generated_images_epoch_43.png'\n",
            "Model checkpoint saved at '/content/drive/MyDrive/Generated_Images/model_checkpoint_epoch_43.pt'\n",
            "Epoch: 44 ===== Batch: 0/235 ===== Disc loss: 0.6872 ===== Gen loss: 2.4363\n",
            "Epoch: 44 ===== Batch: 50/235 ===== Disc loss: 0.6702 ===== Gen loss: 2.5879\n",
            "Epoch: 44 ===== Batch: 100/235 ===== Disc loss: 0.6748 ===== Gen loss: 2.1442\n",
            "Epoch: 44 ===== Batch: 150/235 ===== Disc loss: 0.6665 ===== Gen loss: 2.3033\n",
            "Epoch: 44 ===== Batch: 200/235 ===== Disc loss: 1.1979 ===== Gen loss: 0.7091\n",
            "Generated images saved at '/content/drive/MyDrive/Generated_Images/generated_images_epoch_44.png'\n",
            "Model checkpoint saved at '/content/drive/MyDrive/Generated_Images/model_checkpoint_epoch_44.pt'\n",
            "Epoch: 45 ===== Batch: 0/235 ===== Disc loss: 0.7400 ===== Gen loss: 2.8917\n",
            "Epoch: 45 ===== Batch: 50/235 ===== Disc loss: 0.8158 ===== Gen loss: 3.7928\n",
            "Epoch: 45 ===== Batch: 100/235 ===== Disc loss: 0.8406 ===== Gen loss: 1.4942\n",
            "Epoch: 45 ===== Batch: 150/235 ===== Disc loss: 0.6783 ===== Gen loss: 1.9812\n",
            "Epoch: 45 ===== Batch: 200/235 ===== Disc loss: 0.6817 ===== Gen loss: 2.1782\n",
            "Generated images saved at '/content/drive/MyDrive/Generated_Images/generated_images_epoch_45.png'\n",
            "Model checkpoint saved at '/content/drive/MyDrive/Generated_Images/model_checkpoint_epoch_45.pt'\n",
            "Epoch: 46 ===== Batch: 0/235 ===== Disc loss: 1.1262 ===== Gen loss: 0.9906\n",
            "Epoch: 46 ===== Batch: 50/235 ===== Disc loss: 0.7798 ===== Gen loss: 3.3224\n",
            "Epoch: 46 ===== Batch: 100/235 ===== Disc loss: 0.8987 ===== Gen loss: 2.1216\n",
            "Epoch: 46 ===== Batch: 150/235 ===== Disc loss: 0.8195 ===== Gen loss: 2.9483\n",
            "Epoch: 46 ===== Batch: 200/235 ===== Disc loss: 0.6731 ===== Gen loss: 1.8172\n",
            "Generated images saved at '/content/drive/MyDrive/Generated_Images/generated_images_epoch_46.png'\n",
            "Model checkpoint saved at '/content/drive/MyDrive/Generated_Images/model_checkpoint_epoch_46.pt'\n",
            "Epoch: 47 ===== Batch: 0/235 ===== Disc loss: 0.6907 ===== Gen loss: 2.9124\n",
            "Epoch: 47 ===== Batch: 50/235 ===== Disc loss: 0.7429 ===== Gen loss: 1.4980\n",
            "Epoch: 47 ===== Batch: 100/235 ===== Disc loss: 0.7653 ===== Gen loss: 3.1119\n",
            "Epoch: 47 ===== Batch: 150/235 ===== Disc loss: 0.8487 ===== Gen loss: 1.5276\n",
            "Epoch: 47 ===== Batch: 200/235 ===== Disc loss: 1.1049 ===== Gen loss: 2.7928\n",
            "Generated images saved at '/content/drive/MyDrive/Generated_Images/generated_images_epoch_47.png'\n",
            "Model checkpoint saved at '/content/drive/MyDrive/Generated_Images/model_checkpoint_epoch_47.pt'\n",
            "Epoch: 48 ===== Batch: 0/235 ===== Disc loss: 0.8116 ===== Gen loss: 1.5917\n",
            "Epoch: 48 ===== Batch: 50/235 ===== Disc loss: 0.7238 ===== Gen loss: 2.9759\n",
            "Epoch: 48 ===== Batch: 100/235 ===== Disc loss: 0.6638 ===== Gen loss: 2.6221\n",
            "Epoch: 48 ===== Batch: 150/235 ===== Disc loss: 0.6765 ===== Gen loss: 2.5006\n",
            "Epoch: 48 ===== Batch: 200/235 ===== Disc loss: 0.7739 ===== Gen loss: 2.8755\n",
            "Generated images saved at '/content/drive/MyDrive/Generated_Images/generated_images_epoch_48.png'\n",
            "Model checkpoint saved at '/content/drive/MyDrive/Generated_Images/model_checkpoint_epoch_48.pt'\n",
            "Epoch: 49 ===== Batch: 0/235 ===== Disc loss: 0.6897 ===== Gen loss: 2.8630\n",
            "Epoch: 49 ===== Batch: 50/235 ===== Disc loss: 0.6722 ===== Gen loss: 2.0516\n",
            "Epoch: 49 ===== Batch: 100/235 ===== Disc loss: 0.7256 ===== Gen loss: 2.1338\n",
            "Epoch: 49 ===== Batch: 150/235 ===== Disc loss: 0.8465 ===== Gen loss: 0.8326\n",
            "Epoch: 49 ===== Batch: 200/235 ===== Disc loss: 0.7322 ===== Gen loss: 3.1982\n",
            "Generated images saved at '/content/drive/MyDrive/Generated_Images/generated_images_epoch_49.png'\n",
            "Model checkpoint saved at '/content/drive/MyDrive/Generated_Images/model_checkpoint_epoch_49.pt'\n",
            "Epoch: 50 ===== Batch: 0/235 ===== Disc loss: 0.7607 ===== Gen loss: 2.4180\n",
            "Epoch: 50 ===== Batch: 50/235 ===== Disc loss: 0.7630 ===== Gen loss: 2.4700\n",
            "Epoch: 50 ===== Batch: 100/235 ===== Disc loss: 0.6653 ===== Gen loss: 2.4196\n",
            "Epoch: 50 ===== Batch: 150/235 ===== Disc loss: 0.6633 ===== Gen loss: 2.3168\n",
            "Epoch: 50 ===== Batch: 200/235 ===== Disc loss: 0.6752 ===== Gen loss: 2.3549\n",
            "Generated images saved at '/content/drive/MyDrive/Generated_Images/generated_images_epoch_50.png'\n",
            "Model checkpoint saved at '/content/drive/MyDrive/Generated_Images/model_checkpoint_epoch_50.pt'\n",
            "Epoch: 51 ===== Batch: 0/235 ===== Disc loss: 0.6893 ===== Gen loss: 2.7387\n",
            "Epoch: 51 ===== Batch: 50/235 ===== Disc loss: 0.6940 ===== Gen loss: 1.9252\n",
            "Epoch: 51 ===== Batch: 100/235 ===== Disc loss: 0.7805 ===== Gen loss: 2.9797\n",
            "Epoch: 51 ===== Batch: 150/235 ===== Disc loss: 0.9020 ===== Gen loss: 1.5618\n",
            "Epoch: 51 ===== Batch: 200/235 ===== Disc loss: 0.6845 ===== Gen loss: 2.5139\n",
            "Generated images saved at '/content/drive/MyDrive/Generated_Images/generated_images_epoch_51.png'\n",
            "Model checkpoint saved at '/content/drive/MyDrive/Generated_Images/model_checkpoint_epoch_51.pt'\n",
            "Epoch: 52 ===== Batch: 0/235 ===== Disc loss: 0.6886 ===== Gen loss: 3.0219\n",
            "Epoch: 52 ===== Batch: 50/235 ===== Disc loss: 0.8222 ===== Gen loss: 1.6535\n",
            "Epoch: 52 ===== Batch: 100/235 ===== Disc loss: 0.6652 ===== Gen loss: 2.1197\n",
            "Epoch: 52 ===== Batch: 150/235 ===== Disc loss: 0.8933 ===== Gen loss: 1.3788\n",
            "Epoch: 52 ===== Batch: 200/235 ===== Disc loss: 0.6671 ===== Gen loss: 2.2155\n",
            "Generated images saved at '/content/drive/MyDrive/Generated_Images/generated_images_epoch_52.png'\n",
            "Model checkpoint saved at '/content/drive/MyDrive/Generated_Images/model_checkpoint_epoch_52.pt'\n",
            "Epoch: 53 ===== Batch: 0/235 ===== Disc loss: 0.6856 ===== Gen loss: 2.5965\n",
            "Epoch: 53 ===== Batch: 50/235 ===== Disc loss: 0.6776 ===== Gen loss: 2.3736\n",
            "Epoch: 53 ===== Batch: 100/235 ===== Disc loss: 0.7257 ===== Gen loss: 1.6800\n",
            "Epoch: 53 ===== Batch: 150/235 ===== Disc loss: 1.0121 ===== Gen loss: 2.2902\n",
            "Epoch: 53 ===== Batch: 200/235 ===== Disc loss: 0.6731 ===== Gen loss: 2.0375\n",
            "Generated images saved at '/content/drive/MyDrive/Generated_Images/generated_images_epoch_53.png'\n",
            "Model checkpoint saved at '/content/drive/MyDrive/Generated_Images/model_checkpoint_epoch_53.pt'\n",
            "Epoch: 54 ===== Batch: 0/235 ===== Disc loss: 0.6748 ===== Gen loss: 2.4464\n",
            "Epoch: 54 ===== Batch: 50/235 ===== Disc loss: 0.9637 ===== Gen loss: 1.1250\n",
            "Epoch: 54 ===== Batch: 100/235 ===== Disc loss: 0.6675 ===== Gen loss: 2.3798\n",
            "Epoch: 54 ===== Batch: 150/235 ===== Disc loss: 0.7193 ===== Gen loss: 2.1304\n",
            "Epoch: 54 ===== Batch: 200/235 ===== Disc loss: 0.7238 ===== Gen loss: 2.6365\n",
            "Generated images saved at '/content/drive/MyDrive/Generated_Images/generated_images_epoch_54.png'\n",
            "Model checkpoint saved at '/content/drive/MyDrive/Generated_Images/model_checkpoint_epoch_54.pt'\n",
            "Epoch: 55 ===== Batch: 0/235 ===== Disc loss: 0.6632 ===== Gen loss: 2.3150\n",
            "Epoch: 55 ===== Batch: 50/235 ===== Disc loss: 0.7514 ===== Gen loss: 2.4374\n",
            "Epoch: 55 ===== Batch: 100/235 ===== Disc loss: 0.7666 ===== Gen loss: 1.0796\n",
            "Epoch: 55 ===== Batch: 150/235 ===== Disc loss: 0.7009 ===== Gen loss: 2.4527\n",
            "Epoch: 55 ===== Batch: 200/235 ===== Disc loss: 0.7196 ===== Gen loss: 1.8336\n",
            "Generated images saved at '/content/drive/MyDrive/Generated_Images/generated_images_epoch_55.png'\n",
            "Model checkpoint saved at '/content/drive/MyDrive/Generated_Images/model_checkpoint_epoch_55.pt'\n",
            "Epoch: 56 ===== Batch: 0/235 ===== Disc loss: 0.7110 ===== Gen loss: 2.2143\n",
            "Epoch: 56 ===== Batch: 50/235 ===== Disc loss: 0.6689 ===== Gen loss: 2.1595\n",
            "Epoch: 56 ===== Batch: 100/235 ===== Disc loss: 0.7162 ===== Gen loss: 2.3462\n",
            "Epoch: 56 ===== Batch: 150/235 ===== Disc loss: 0.6930 ===== Gen loss: 2.8607\n",
            "Epoch: 56 ===== Batch: 200/235 ===== Disc loss: 0.7977 ===== Gen loss: 2.1992\n",
            "Generated images saved at '/content/drive/MyDrive/Generated_Images/generated_images_epoch_56.png'\n",
            "Model checkpoint saved at '/content/drive/MyDrive/Generated_Images/model_checkpoint_epoch_56.pt'\n",
            "Epoch: 57 ===== Batch: 0/235 ===== Disc loss: 0.6843 ===== Gen loss: 2.3457\n",
            "Epoch: 57 ===== Batch: 50/235 ===== Disc loss: 0.6858 ===== Gen loss: 2.1500\n",
            "Epoch: 57 ===== Batch: 100/235 ===== Disc loss: 0.6787 ===== Gen loss: 2.1563\n",
            "Epoch: 57 ===== Batch: 150/235 ===== Disc loss: 0.7277 ===== Gen loss: 2.3347\n",
            "Epoch: 57 ===== Batch: 200/235 ===== Disc loss: 0.6865 ===== Gen loss: 1.9798\n",
            "Generated images saved at '/content/drive/MyDrive/Generated_Images/generated_images_epoch_57.png'\n",
            "Model checkpoint saved at '/content/drive/MyDrive/Generated_Images/model_checkpoint_epoch_57.pt'\n",
            "Epoch: 58 ===== Batch: 0/235 ===== Disc loss: 0.7367 ===== Gen loss: 2.9280\n",
            "Epoch: 58 ===== Batch: 50/235 ===== Disc loss: 0.7044 ===== Gen loss: 1.9553\n",
            "Epoch: 58 ===== Batch: 100/235 ===== Disc loss: 0.6852 ===== Gen loss: 1.8686\n",
            "Epoch: 58 ===== Batch: 150/235 ===== Disc loss: 0.6815 ===== Gen loss: 2.5421\n",
            "Epoch: 58 ===== Batch: 200/235 ===== Disc loss: 0.6672 ===== Gen loss: 2.0845\n",
            "Generated images saved at '/content/drive/MyDrive/Generated_Images/generated_images_epoch_58.png'\n",
            "Model checkpoint saved at '/content/drive/MyDrive/Generated_Images/model_checkpoint_epoch_58.pt'\n",
            "Epoch: 59 ===== Batch: 0/235 ===== Disc loss: 0.6919 ===== Gen loss: 1.8774\n",
            "Epoch: 59 ===== Batch: 50/235 ===== Disc loss: 0.6708 ===== Gen loss: 2.4009\n",
            "Epoch: 59 ===== Batch: 100/235 ===== Disc loss: 0.7266 ===== Gen loss: 2.6838\n",
            "Epoch: 59 ===== Batch: 150/235 ===== Disc loss: 0.9018 ===== Gen loss: 2.1710\n",
            "Epoch: 59 ===== Batch: 200/235 ===== Disc loss: 0.8049 ===== Gen loss: 2.6470\n",
            "Generated images saved at '/content/drive/MyDrive/Generated_Images/generated_images_epoch_59.png'\n",
            "Model checkpoint saved at '/content/drive/MyDrive/Generated_Images/model_checkpoint_epoch_59.pt'\n",
            "Epoch: 60 ===== Batch: 0/235 ===== Disc loss: 1.5030 ===== Gen loss: 0.9689\n",
            "Epoch: 60 ===== Batch: 50/235 ===== Disc loss: 0.6740 ===== Gen loss: 2.6405\n",
            "Epoch: 60 ===== Batch: 100/235 ===== Disc loss: 0.9425 ===== Gen loss: 1.6656\n",
            "Epoch: 60 ===== Batch: 150/235 ===== Disc loss: 0.6856 ===== Gen loss: 2.1603\n",
            "Epoch: 60 ===== Batch: 200/235 ===== Disc loss: 1.0952 ===== Gen loss: 0.6134\n",
            "Generated images saved at '/content/drive/MyDrive/Generated_Images/generated_images_epoch_60.png'\n",
            "Model checkpoint saved at '/content/drive/MyDrive/Generated_Images/model_checkpoint_epoch_60.pt'\n",
            "Epoch: 61 ===== Batch: 0/235 ===== Disc loss: 0.9709 ===== Gen loss: 3.8363\n",
            "Epoch: 61 ===== Batch: 50/235 ===== Disc loss: 0.6670 ===== Gen loss: 2.2016\n",
            "Epoch: 61 ===== Batch: 100/235 ===== Disc loss: 0.6710 ===== Gen loss: 2.3637\n",
            "Epoch: 61 ===== Batch: 150/235 ===== Disc loss: 0.6727 ===== Gen loss: 2.2887\n",
            "Epoch: 61 ===== Batch: 200/235 ===== Disc loss: 0.6730 ===== Gen loss: 2.3969\n",
            "Generated images saved at '/content/drive/MyDrive/Generated_Images/generated_images_epoch_61.png'\n",
            "Model checkpoint saved at '/content/drive/MyDrive/Generated_Images/model_checkpoint_epoch_61.pt'\n",
            "Epoch: 62 ===== Batch: 0/235 ===== Disc loss: 0.6698 ===== Gen loss: 2.7036\n",
            "Epoch: 62 ===== Batch: 50/235 ===== Disc loss: 1.0240 ===== Gen loss: 4.1556\n",
            "Epoch: 62 ===== Batch: 100/235 ===== Disc loss: 0.6792 ===== Gen loss: 2.6845\n",
            "Epoch: 62 ===== Batch: 150/235 ===== Disc loss: 0.6751 ===== Gen loss: 2.0244\n",
            "Epoch: 62 ===== Batch: 200/235 ===== Disc loss: 0.6910 ===== Gen loss: 2.1063\n",
            "Generated images saved at '/content/drive/MyDrive/Generated_Images/generated_images_epoch_62.png'\n",
            "Model checkpoint saved at '/content/drive/MyDrive/Generated_Images/model_checkpoint_epoch_62.pt'\n",
            "Epoch: 63 ===== Batch: 0/235 ===== Disc loss: 0.6707 ===== Gen loss: 2.3148\n",
            "Epoch: 63 ===== Batch: 50/235 ===== Disc loss: 2.3059 ===== Gen loss: 0.3308\n",
            "Epoch: 63 ===== Batch: 100/235 ===== Disc loss: 0.6875 ===== Gen loss: 2.7366\n",
            "Epoch: 63 ===== Batch: 150/235 ===== Disc loss: 0.6688 ===== Gen loss: 2.1448\n",
            "Epoch: 63 ===== Batch: 200/235 ===== Disc loss: 0.6725 ===== Gen loss: 2.4522\n",
            "Generated images saved at '/content/drive/MyDrive/Generated_Images/generated_images_epoch_63.png'\n",
            "Model checkpoint saved at '/content/drive/MyDrive/Generated_Images/model_checkpoint_epoch_63.pt'\n",
            "Epoch: 64 ===== Batch: 0/235 ===== Disc loss: 1.1179 ===== Gen loss: 1.2420\n",
            "Epoch: 64 ===== Batch: 50/235 ===== Disc loss: 0.6956 ===== Gen loss: 2.1320\n",
            "Epoch: 64 ===== Batch: 100/235 ===== Disc loss: 0.9292 ===== Gen loss: 2.0569\n",
            "Epoch: 64 ===== Batch: 150/235 ===== Disc loss: 1.4184 ===== Gen loss: 3.4920\n",
            "Epoch: 64 ===== Batch: 200/235 ===== Disc loss: 0.6785 ===== Gen loss: 2.6341\n",
            "Generated images saved at '/content/drive/MyDrive/Generated_Images/generated_images_epoch_64.png'\n",
            "Model checkpoint saved at '/content/drive/MyDrive/Generated_Images/model_checkpoint_epoch_64.pt'\n",
            "Epoch: 65 ===== Batch: 0/235 ===== Disc loss: 0.6679 ===== Gen loss: 2.4878\n",
            "Epoch: 65 ===== Batch: 50/235 ===== Disc loss: 0.8134 ===== Gen loss: 1.1514\n",
            "Epoch: 65 ===== Batch: 100/235 ===== Disc loss: 0.6805 ===== Gen loss: 1.9512\n",
            "Epoch: 65 ===== Batch: 150/235 ===== Disc loss: 0.6683 ===== Gen loss: 2.6070\n",
            "Epoch: 65 ===== Batch: 200/235 ===== Disc loss: 0.6700 ===== Gen loss: 2.4181\n",
            "Generated images saved at '/content/drive/MyDrive/Generated_Images/generated_images_epoch_65.png'\n",
            "Model checkpoint saved at '/content/drive/MyDrive/Generated_Images/model_checkpoint_epoch_65.pt'\n",
            "Epoch: 66 ===== Batch: 0/235 ===== Disc loss: 0.6702 ===== Gen loss: 2.4153\n",
            "Epoch: 66 ===== Batch: 50/235 ===== Disc loss: 0.7503 ===== Gen loss: 1.9998\n",
            "Epoch: 66 ===== Batch: 100/235 ===== Disc loss: 0.6967 ===== Gen loss: 2.8880\n",
            "Epoch: 66 ===== Batch: 150/235 ===== Disc loss: 0.6664 ===== Gen loss: 2.3581\n",
            "Epoch: 66 ===== Batch: 200/235 ===== Disc loss: 0.6632 ===== Gen loss: 2.2638\n",
            "Generated images saved at '/content/drive/MyDrive/Generated_Images/generated_images_epoch_66.png'\n",
            "Model checkpoint saved at '/content/drive/MyDrive/Generated_Images/model_checkpoint_epoch_66.pt'\n",
            "Epoch: 67 ===== Batch: 0/235 ===== Disc loss: 0.6931 ===== Gen loss: 2.6691\n",
            "Epoch: 67 ===== Batch: 50/235 ===== Disc loss: 0.8102 ===== Gen loss: 1.9374\n",
            "Epoch: 67 ===== Batch: 100/235 ===== Disc loss: 0.6620 ===== Gen loss: 2.3949\n",
            "Epoch: 67 ===== Batch: 150/235 ===== Disc loss: 0.7033 ===== Gen loss: 1.6890\n",
            "Epoch: 67 ===== Batch: 200/235 ===== Disc loss: 0.6669 ===== Gen loss: 2.1979\n",
            "Generated images saved at '/content/drive/MyDrive/Generated_Images/generated_images_epoch_67.png'\n",
            "Model checkpoint saved at '/content/drive/MyDrive/Generated_Images/model_checkpoint_epoch_67.pt'\n",
            "Epoch: 68 ===== Batch: 0/235 ===== Disc loss: 0.7858 ===== Gen loss: 2.4855\n",
            "Epoch: 68 ===== Batch: 50/235 ===== Disc loss: 0.7155 ===== Gen loss: 1.5741\n",
            "Epoch: 68 ===== Batch: 100/235 ===== Disc loss: 0.7107 ===== Gen loss: 2.9756\n",
            "Epoch: 68 ===== Batch: 150/235 ===== Disc loss: 0.6765 ===== Gen loss: 2.0743\n",
            "Epoch: 68 ===== Batch: 200/235 ===== Disc loss: 0.6688 ===== Gen loss: 2.2475\n",
            "Generated images saved at '/content/drive/MyDrive/Generated_Images/generated_images_epoch_68.png'\n",
            "Model checkpoint saved at '/content/drive/MyDrive/Generated_Images/model_checkpoint_epoch_68.pt'\n",
            "Epoch: 69 ===== Batch: 0/235 ===== Disc loss: 0.6986 ===== Gen loss: 2.7999\n",
            "Epoch: 69 ===== Batch: 50/235 ===== Disc loss: 0.6625 ===== Gen loss: 2.2410\n",
            "Epoch: 69 ===== Batch: 100/235 ===== Disc loss: 0.6702 ===== Gen loss: 2.2627\n",
            "Epoch: 69 ===== Batch: 150/235 ===== Disc loss: 0.7116 ===== Gen loss: 3.0925\n",
            "Epoch: 69 ===== Batch: 200/235 ===== Disc loss: 0.6789 ===== Gen loss: 2.5587\n",
            "Generated images saved at '/content/drive/MyDrive/Generated_Images/generated_images_epoch_69.png'\n",
            "Model checkpoint saved at '/content/drive/MyDrive/Generated_Images/model_checkpoint_epoch_69.pt'\n",
            "Epoch: 70 ===== Batch: 0/235 ===== Disc loss: 0.6856 ===== Gen loss: 1.6689\n",
            "Epoch: 70 ===== Batch: 50/235 ===== Disc loss: 0.7499 ===== Gen loss: 3.4240\n",
            "Epoch: 70 ===== Batch: 100/235 ===== Disc loss: 0.7069 ===== Gen loss: 2.6348\n",
            "Epoch: 70 ===== Batch: 150/235 ===== Disc loss: 0.6702 ===== Gen loss: 2.5435\n",
            "Epoch: 70 ===== Batch: 200/235 ===== Disc loss: 1.6068 ===== Gen loss: 2.6802\n",
            "Generated images saved at '/content/drive/MyDrive/Generated_Images/generated_images_epoch_70.png'\n",
            "Model checkpoint saved at '/content/drive/MyDrive/Generated_Images/model_checkpoint_epoch_70.pt'\n",
            "Epoch: 71 ===== Batch: 0/235 ===== Disc loss: 0.6782 ===== Gen loss: 3.0111\n",
            "Epoch: 71 ===== Batch: 50/235 ===== Disc loss: 0.6868 ===== Gen loss: 2.2912\n",
            "Epoch: 71 ===== Batch: 100/235 ===== Disc loss: 0.8799 ===== Gen loss: 1.9634\n",
            "Epoch: 71 ===== Batch: 150/235 ===== Disc loss: 0.7004 ===== Gen loss: 2.1388\n",
            "Epoch: 71 ===== Batch: 200/235 ===== Disc loss: 0.7528 ===== Gen loss: 1.6510\n",
            "Generated images saved at '/content/drive/MyDrive/Generated_Images/generated_images_epoch_71.png'\n",
            "Model checkpoint saved at '/content/drive/MyDrive/Generated_Images/model_checkpoint_epoch_71.pt'\n",
            "Epoch: 72 ===== Batch: 0/235 ===== Disc loss: 0.7223 ===== Gen loss: 2.3239\n",
            "Epoch: 72 ===== Batch: 50/235 ===== Disc loss: 0.8461 ===== Gen loss: 1.6833\n",
            "Epoch: 72 ===== Batch: 100/235 ===== Disc loss: 0.9255 ===== Gen loss: 3.7509\n",
            "Epoch: 72 ===== Batch: 150/235 ===== Disc loss: 0.6736 ===== Gen loss: 2.1830\n",
            "Epoch: 72 ===== Batch: 200/235 ===== Disc loss: 0.6717 ===== Gen loss: 1.9637\n",
            "Generated images saved at '/content/drive/MyDrive/Generated_Images/generated_images_epoch_72.png'\n",
            "Model checkpoint saved at '/content/drive/MyDrive/Generated_Images/model_checkpoint_epoch_72.pt'\n",
            "Epoch: 73 ===== Batch: 0/235 ===== Disc loss: 0.6706 ===== Gen loss: 2.1498\n",
            "Epoch: 73 ===== Batch: 50/235 ===== Disc loss: 0.6627 ===== Gen loss: 2.4163\n",
            "Epoch: 73 ===== Batch: 100/235 ===== Disc loss: 0.6735 ===== Gen loss: 2.4327\n",
            "Epoch: 73 ===== Batch: 150/235 ===== Disc loss: 0.6912 ===== Gen loss: 2.6369\n",
            "Epoch: 73 ===== Batch: 200/235 ===== Disc loss: 0.7806 ===== Gen loss: 2.3223\n",
            "Generated images saved at '/content/drive/MyDrive/Generated_Images/generated_images_epoch_73.png'\n",
            "Model checkpoint saved at '/content/drive/MyDrive/Generated_Images/model_checkpoint_epoch_73.pt'\n",
            "Epoch: 74 ===== Batch: 0/235 ===== Disc loss: 0.7493 ===== Gen loss: 1.5743\n",
            "Epoch: 74 ===== Batch: 50/235 ===== Disc loss: 0.6670 ===== Gen loss: 2.6070\n",
            "Epoch: 74 ===== Batch: 100/235 ===== Disc loss: 0.6743 ===== Gen loss: 2.3993\n",
            "Epoch: 74 ===== Batch: 150/235 ===== Disc loss: 0.6689 ===== Gen loss: 2.2516\n",
            "Epoch: 74 ===== Batch: 200/235 ===== Disc loss: 0.6988 ===== Gen loss: 2.6999\n",
            "Generated images saved at '/content/drive/MyDrive/Generated_Images/generated_images_epoch_74.png'\n",
            "Model checkpoint saved at '/content/drive/MyDrive/Generated_Images/model_checkpoint_epoch_74.pt'\n",
            "Epoch: 75 ===== Batch: 0/235 ===== Disc loss: 0.7127 ===== Gen loss: 2.3962\n",
            "Epoch: 75 ===== Batch: 50/235 ===== Disc loss: 0.6626 ===== Gen loss: 2.5836\n",
            "Epoch: 75 ===== Batch: 100/235 ===== Disc loss: 0.6884 ===== Gen loss: 2.5802\n",
            "Epoch: 75 ===== Batch: 150/235 ===== Disc loss: 0.6611 ===== Gen loss: 2.3218\n",
            "Epoch: 75 ===== Batch: 200/235 ===== Disc loss: 0.6581 ===== Gen loss: 2.2854\n",
            "Generated images saved at '/content/drive/MyDrive/Generated_Images/generated_images_epoch_75.png'\n",
            "Model checkpoint saved at '/content/drive/MyDrive/Generated_Images/model_checkpoint_epoch_75.pt'\n",
            "Epoch: 76 ===== Batch: 0/235 ===== Disc loss: 0.6675 ===== Gen loss: 2.1788\n",
            "Epoch: 76 ===== Batch: 50/235 ===== Disc loss: 0.6653 ===== Gen loss: 2.3315\n",
            "Epoch: 76 ===== Batch: 100/235 ===== Disc loss: 0.6548 ===== Gen loss: 2.2357\n",
            "Epoch: 76 ===== Batch: 150/235 ===== Disc loss: 0.6750 ===== Gen loss: 2.1845\n",
            "Epoch: 76 ===== Batch: 200/235 ===== Disc loss: 0.6562 ===== Gen loss: 2.3803\n",
            "Generated images saved at '/content/drive/MyDrive/Generated_Images/generated_images_epoch_76.png'\n",
            "Model checkpoint saved at '/content/drive/MyDrive/Generated_Images/model_checkpoint_epoch_76.pt'\n",
            "Epoch: 77 ===== Batch: 0/235 ===== Disc loss: 0.6800 ===== Gen loss: 2.1640\n",
            "Epoch: 77 ===== Batch: 50/235 ===== Disc loss: 0.6583 ===== Gen loss: 2.3068\n",
            "Epoch: 77 ===== Batch: 100/235 ===== Disc loss: 0.6576 ===== Gen loss: 2.0819\n",
            "Epoch: 77 ===== Batch: 150/235 ===== Disc loss: 0.6873 ===== Gen loss: 1.9961\n",
            "Epoch: 77 ===== Batch: 200/235 ===== Disc loss: 0.6938 ===== Gen loss: 2.2747\n",
            "Generated images saved at '/content/drive/MyDrive/Generated_Images/generated_images_epoch_77.png'\n",
            "Model checkpoint saved at '/content/drive/MyDrive/Generated_Images/model_checkpoint_epoch_77.pt'\n",
            "Epoch: 78 ===== Batch: 0/235 ===== Disc loss: 0.6690 ===== Gen loss: 2.8026\n",
            "Epoch: 78 ===== Batch: 50/235 ===== Disc loss: 0.6806 ===== Gen loss: 2.3963\n",
            "Epoch: 78 ===== Batch: 100/235 ===== Disc loss: 0.6822 ===== Gen loss: 2.2423\n",
            "Epoch: 78 ===== Batch: 150/235 ===== Disc loss: 0.6562 ===== Gen loss: 2.0772\n",
            "Epoch: 78 ===== Batch: 200/235 ===== Disc loss: 0.6644 ===== Gen loss: 2.3680\n",
            "Generated images saved at '/content/drive/MyDrive/Generated_Images/generated_images_epoch_78.png'\n",
            "Model checkpoint saved at '/content/drive/MyDrive/Generated_Images/model_checkpoint_epoch_78.pt'\n",
            "Epoch: 79 ===== Batch: 0/235 ===== Disc loss: 0.6790 ===== Gen loss: 1.8241\n",
            "Epoch: 79 ===== Batch: 50/235 ===== Disc loss: 0.6606 ===== Gen loss: 2.7318\n",
            "Epoch: 79 ===== Batch: 100/235 ===== Disc loss: 0.6654 ===== Gen loss: 2.3444\n",
            "Epoch: 79 ===== Batch: 150/235 ===== Disc loss: 0.6652 ===== Gen loss: 2.0524\n",
            "Epoch: 79 ===== Batch: 200/235 ===== Disc loss: 0.6628 ===== Gen loss: 2.0423\n",
            "Generated images saved at '/content/drive/MyDrive/Generated_Images/generated_images_epoch_79.png'\n",
            "Model checkpoint saved at '/content/drive/MyDrive/Generated_Images/model_checkpoint_epoch_79.pt'\n",
            "Epoch: 80 ===== Batch: 0/235 ===== Disc loss: 0.6571 ===== Gen loss: 2.4269\n",
            "Epoch: 80 ===== Batch: 50/235 ===== Disc loss: 0.6584 ===== Gen loss: 2.2835\n",
            "Epoch: 80 ===== Batch: 100/235 ===== Disc loss: 0.6904 ===== Gen loss: 2.0630\n",
            "Epoch: 80 ===== Batch: 150/235 ===== Disc loss: 0.6615 ===== Gen loss: 2.5343\n",
            "Epoch: 80 ===== Batch: 200/235 ===== Disc loss: 0.7306 ===== Gen loss: 3.5827\n",
            "Generated images saved at '/content/drive/MyDrive/Generated_Images/generated_images_epoch_80.png'\n",
            "Model checkpoint saved at '/content/drive/MyDrive/Generated_Images/model_checkpoint_epoch_80.pt'\n",
            "Epoch: 81 ===== Batch: 0/235 ===== Disc loss: 0.6968 ===== Gen loss: 2.4042\n",
            "Epoch: 81 ===== Batch: 50/235 ===== Disc loss: 0.6616 ===== Gen loss: 2.4676\n",
            "Epoch: 81 ===== Batch: 100/235 ===== Disc loss: 0.6612 ===== Gen loss: 2.6178\n",
            "Epoch: 81 ===== Batch: 150/235 ===== Disc loss: 0.6895 ===== Gen loss: 3.0562\n",
            "Epoch: 81 ===== Batch: 200/235 ===== Disc loss: 0.6588 ===== Gen loss: 2.3795\n"
          ]
        },
        {
          "data": {
            "text/html": [
              "<pre>⌛ 4 h 17 min 43 s (2023-05-28T15:02:31)</pre>"
            ],
            "text/plain": [
              "<IPython.core.display.HTML object>"
            ]
          },
          "metadata": {},
          "output_type": "display_data"
        },
        {
          "name": "stdout",
          "output_type": "stream",
          "text": [
            "Generated images saved at '/content/drive/MyDrive/Generated_Images/generated_images_epoch_81.png'\n",
            "Model checkpoint saved at '/content/drive/MyDrive/Generated_Images/model_checkpoint_epoch_81.pt'\n",
            "Epoch: 82 ===== Batch: 0/235 ===== Disc loss: 0.6790 ===== Gen loss: 2.0849\n",
            "Epoch: 82 ===== Batch: 50/235 ===== Disc loss: 0.8125 ===== Gen loss: 4.0632\n",
            "Epoch: 82 ===== Batch: 100/235 ===== Disc loss: 0.6845 ===== Gen loss: 3.1614\n",
            "Epoch: 82 ===== Batch: 150/235 ===== Disc loss: 0.6595 ===== Gen loss: 2.1785\n",
            "Epoch: 82 ===== Batch: 200/235 ===== Disc loss: 0.6608 ===== Gen loss: 2.3328\n",
            "Generated images saved at '/content/drive/MyDrive/Generated_Images/generated_images_epoch_82.png'\n",
            "Model checkpoint saved at '/content/drive/MyDrive/Generated_Images/model_checkpoint_epoch_82.pt'\n",
            "Epoch: 83 ===== Batch: 0/235 ===== Disc loss: 0.7864 ===== Gen loss: 4.6721\n",
            "Epoch: 83 ===== Batch: 50/235 ===== Disc loss: 0.6776 ===== Gen loss: 2.5142\n",
            "Epoch: 83 ===== Batch: 100/235 ===== Disc loss: 0.6938 ===== Gen loss: 3.3297\n",
            "Epoch: 83 ===== Batch: 150/235 ===== Disc loss: 0.7270 ===== Gen loss: 3.1499\n",
            "Epoch: 83 ===== Batch: 200/235 ===== Disc loss: 0.7039 ===== Gen loss: 2.0746\n",
            "Generated images saved at '/content/drive/MyDrive/Generated_Images/generated_images_epoch_83.png'\n",
            "Model checkpoint saved at '/content/drive/MyDrive/Generated_Images/model_checkpoint_epoch_83.pt'\n",
            "Epoch: 84 ===== Batch: 0/235 ===== Disc loss: 0.6823 ===== Gen loss: 2.9719\n",
            "Epoch: 84 ===== Batch: 50/235 ===== Disc loss: 0.6823 ===== Gen loss: 3.2435\n",
            "Epoch: 84 ===== Batch: 100/235 ===== Disc loss: 0.6804 ===== Gen loss: 2.7801\n",
            "Epoch: 84 ===== Batch: 150/235 ===== Disc loss: 0.6630 ===== Gen loss: 2.0919\n",
            "Epoch: 84 ===== Batch: 200/235 ===== Disc loss: 2.4978 ===== Gen loss: 1.3233\n",
            "Generated images saved at '/content/drive/MyDrive/Generated_Images/generated_images_epoch_84.png'\n",
            "Model checkpoint saved at '/content/drive/MyDrive/Generated_Images/model_checkpoint_epoch_84.pt'\n",
            "Epoch: 85 ===== Batch: 0/235 ===== Disc loss: 0.6855 ===== Gen loss: 2.7437\n",
            "Epoch: 85 ===== Batch: 50/235 ===== Disc loss: 0.6734 ===== Gen loss: 2.2207\n",
            "Epoch: 85 ===== Batch: 100/235 ===== Disc loss: 0.6686 ===== Gen loss: 2.5401\n",
            "Epoch: 85 ===== Batch: 150/235 ===== Disc loss: 0.6671 ===== Gen loss: 2.1290\n",
            "Epoch: 85 ===== Batch: 200/235 ===== Disc loss: 0.6616 ===== Gen loss: 2.6524\n",
            "Generated images saved at '/content/drive/MyDrive/Generated_Images/generated_images_epoch_85.png'\n",
            "Model checkpoint saved at '/content/drive/MyDrive/Generated_Images/model_checkpoint_epoch_85.pt'\n",
            "Epoch: 86 ===== Batch: 0/235 ===== Disc loss: 0.7097 ===== Gen loss: 1.7938\n",
            "Epoch: 86 ===== Batch: 50/235 ===== Disc loss: 0.6745 ===== Gen loss: 2.1019\n",
            "Epoch: 86 ===== Batch: 100/235 ===== Disc loss: 0.6894 ===== Gen loss: 2.3652\n",
            "Epoch: 86 ===== Batch: 150/235 ===== Disc loss: 0.6646 ===== Gen loss: 2.3033\n",
            "Epoch: 86 ===== Batch: 200/235 ===== Disc loss: 0.7035 ===== Gen loss: 3.5866\n",
            "Generated images saved at '/content/drive/MyDrive/Generated_Images/generated_images_epoch_86.png'\n",
            "Model checkpoint saved at '/content/drive/MyDrive/Generated_Images/model_checkpoint_epoch_86.pt'\n",
            "Epoch: 87 ===== Batch: 0/235 ===== Disc loss: 0.6664 ===== Gen loss: 2.5043\n",
            "Epoch: 87 ===== Batch: 50/235 ===== Disc loss: 0.6697 ===== Gen loss: 2.0895\n",
            "Epoch: 87 ===== Batch: 100/235 ===== Disc loss: 0.6867 ===== Gen loss: 2.1851\n",
            "Epoch: 87 ===== Batch: 150/235 ===== Disc loss: 0.7261 ===== Gen loss: 3.7603\n",
            "Epoch: 87 ===== Batch: 200/235 ===== Disc loss: 0.6893 ===== Gen loss: 2.6405\n",
            "Generated images saved at '/content/drive/MyDrive/Generated_Images/generated_images_epoch_87.png'\n",
            "Model checkpoint saved at '/content/drive/MyDrive/Generated_Images/model_checkpoint_epoch_87.pt'\n",
            "Epoch: 88 ===== Batch: 0/235 ===== Disc loss: 0.7110 ===== Gen loss: 3.0712\n",
            "Epoch: 88 ===== Batch: 50/235 ===== Disc loss: 0.6606 ===== Gen loss: 2.5179\n",
            "Epoch: 88 ===== Batch: 100/235 ===== Disc loss: 0.7460 ===== Gen loss: 2.2571\n",
            "Epoch: 88 ===== Batch: 150/235 ===== Disc loss: 0.6848 ===== Gen loss: 2.1614\n",
            "Epoch: 88 ===== Batch: 200/235 ===== Disc loss: 0.6761 ===== Gen loss: 2.1123\n",
            "Generated images saved at '/content/drive/MyDrive/Generated_Images/generated_images_epoch_88.png'\n",
            "Model checkpoint saved at '/content/drive/MyDrive/Generated_Images/model_checkpoint_epoch_88.pt'\n",
            "Epoch: 89 ===== Batch: 0/235 ===== Disc loss: 0.6734 ===== Gen loss: 2.8880\n",
            "Epoch: 89 ===== Batch: 50/235 ===== Disc loss: 0.8113 ===== Gen loss: 4.0618\n",
            "Epoch: 89 ===== Batch: 100/235 ===== Disc loss: 0.6710 ===== Gen loss: 2.8113\n",
            "Epoch: 89 ===== Batch: 150/235 ===== Disc loss: 0.6635 ===== Gen loss: 2.5507\n",
            "Epoch: 89 ===== Batch: 200/235 ===== Disc loss: 0.6827 ===== Gen loss: 2.1879\n",
            "Generated images saved at '/content/drive/MyDrive/Generated_Images/generated_images_epoch_89.png'\n",
            "Model checkpoint saved at '/content/drive/MyDrive/Generated_Images/model_checkpoint_epoch_89.pt'\n",
            "Epoch: 90 ===== Batch: 0/235 ===== Disc loss: 0.9484 ===== Gen loss: 4.3892\n",
            "Epoch: 90 ===== Batch: 50/235 ===== Disc loss: 0.6768 ===== Gen loss: 2.5619\n",
            "Epoch: 90 ===== Batch: 100/235 ===== Disc loss: 0.7211 ===== Gen loss: 3.0105\n",
            "Epoch: 90 ===== Batch: 150/235 ===== Disc loss: 0.6745 ===== Gen loss: 2.0959\n",
            "Epoch: 90 ===== Batch: 200/235 ===== Disc loss: 0.6706 ===== Gen loss: 2.3290\n",
            "Generated images saved at '/content/drive/MyDrive/Generated_Images/generated_images_epoch_90.png'\n",
            "Model checkpoint saved at '/content/drive/MyDrive/Generated_Images/model_checkpoint_epoch_90.pt'\n",
            "Epoch: 91 ===== Batch: 0/235 ===== Disc loss: 0.7124 ===== Gen loss: 2.9535\n",
            "Epoch: 91 ===== Batch: 50/235 ===== Disc loss: 0.6954 ===== Gen loss: 2.9059\n",
            "Epoch: 91 ===== Batch: 100/235 ===== Disc loss: 0.6637 ===== Gen loss: 2.4946\n",
            "Epoch: 91 ===== Batch: 150/235 ===== Disc loss: 0.7291 ===== Gen loss: 2.1967\n",
            "Epoch: 91 ===== Batch: 200/235 ===== Disc loss: 0.6742 ===== Gen loss: 2.5983\n",
            "Generated images saved at '/content/drive/MyDrive/Generated_Images/generated_images_epoch_91.png'\n",
            "Model checkpoint saved at '/content/drive/MyDrive/Generated_Images/model_checkpoint_epoch_91.pt'\n",
            "Epoch: 92 ===== Batch: 0/235 ===== Disc loss: 0.7206 ===== Gen loss: 2.3248\n",
            "Epoch: 92 ===== Batch: 50/235 ===== Disc loss: 0.7162 ===== Gen loss: 2.1712\n",
            "Epoch: 92 ===== Batch: 100/235 ===== Disc loss: 0.6794 ===== Gen loss: 2.4911\n",
            "Epoch: 92 ===== Batch: 150/235 ===== Disc loss: 0.6846 ===== Gen loss: 2.7421\n",
            "Epoch: 92 ===== Batch: 200/235 ===== Disc loss: 0.7026 ===== Gen loss: 2.4925\n",
            "Generated images saved at '/content/drive/MyDrive/Generated_Images/generated_images_epoch_92.png'\n",
            "Model checkpoint saved at '/content/drive/MyDrive/Generated_Images/model_checkpoint_epoch_92.pt'\n",
            "Epoch: 93 ===== Batch: 0/235 ===== Disc loss: 0.7080 ===== Gen loss: 2.2789\n",
            "Epoch: 93 ===== Batch: 50/235 ===== Disc loss: 0.6921 ===== Gen loss: 2.9408\n",
            "Epoch: 93 ===== Batch: 100/235 ===== Disc loss: 0.6613 ===== Gen loss: 2.7114\n",
            "Epoch: 93 ===== Batch: 150/235 ===== Disc loss: 0.6634 ===== Gen loss: 2.7718\n",
            "Epoch: 93 ===== Batch: 200/235 ===== Disc loss: 0.6813 ===== Gen loss: 2.4060\n",
            "Generated images saved at '/content/drive/MyDrive/Generated_Images/generated_images_epoch_93.png'\n",
            "Model checkpoint saved at '/content/drive/MyDrive/Generated_Images/model_checkpoint_epoch_93.pt'\n",
            "Epoch: 94 ===== Batch: 0/235 ===== Disc loss: 0.7009 ===== Gen loss: 2.4583\n",
            "Epoch: 94 ===== Batch: 50/235 ===== Disc loss: 0.6701 ===== Gen loss: 2.7125\n",
            "Epoch: 94 ===== Batch: 100/235 ===== Disc loss: 0.6933 ===== Gen loss: 2.4426\n",
            "Epoch: 94 ===== Batch: 150/235 ===== Disc loss: 0.6794 ===== Gen loss: 2.0797\n",
            "Epoch: 94 ===== Batch: 200/235 ===== Disc loss: 0.7081 ===== Gen loss: 1.6217\n",
            "Generated images saved at '/content/drive/MyDrive/Generated_Images/generated_images_epoch_94.png'\n",
            "Model checkpoint saved at '/content/drive/MyDrive/Generated_Images/model_checkpoint_epoch_94.pt'\n",
            "Epoch: 95 ===== Batch: 0/235 ===== Disc loss: 0.6664 ===== Gen loss: 1.8755\n",
            "Epoch: 95 ===== Batch: 50/235 ===== Disc loss: 0.6665 ===== Gen loss: 2.4404\n",
            "Epoch: 95 ===== Batch: 100/235 ===== Disc loss: 0.6630 ===== Gen loss: 2.4388\n",
            "Epoch: 95 ===== Batch: 150/235 ===== Disc loss: 0.6689 ===== Gen loss: 2.7002\n",
            "Epoch: 95 ===== Batch: 200/235 ===== Disc loss: 0.6747 ===== Gen loss: 2.2169\n",
            "Generated images saved at '/content/drive/MyDrive/Generated_Images/generated_images_epoch_95.png'\n",
            "Model checkpoint saved at '/content/drive/MyDrive/Generated_Images/model_checkpoint_epoch_95.pt'\n",
            "Epoch: 96 ===== Batch: 0/235 ===== Disc loss: 0.6713 ===== Gen loss: 2.6938\n",
            "Epoch: 96 ===== Batch: 50/235 ===== Disc loss: 1.1266 ===== Gen loss: 2.8807\n",
            "Epoch: 96 ===== Batch: 100/235 ===== Disc loss: 0.7028 ===== Gen loss: 2.2718\n",
            "Epoch: 96 ===== Batch: 150/235 ===== Disc loss: 0.6622 ===== Gen loss: 2.3630\n",
            "Epoch: 96 ===== Batch: 200/235 ===== Disc loss: 0.6662 ===== Gen loss: 2.4688\n",
            "Generated images saved at '/content/drive/MyDrive/Generated_Images/generated_images_epoch_96.png'\n",
            "Model checkpoint saved at '/content/drive/MyDrive/Generated_Images/model_checkpoint_epoch_96.pt'\n",
            "Epoch: 97 ===== Batch: 0/235 ===== Disc loss: 0.6876 ===== Gen loss: 2.0314\n",
            "Epoch: 97 ===== Batch: 50/235 ===== Disc loss: 0.6811 ===== Gen loss: 1.9011\n",
            "Epoch: 97 ===== Batch: 100/235 ===== Disc loss: 0.9399 ===== Gen loss: 3.0647\n",
            "Epoch: 97 ===== Batch: 150/235 ===== Disc loss: 0.7222 ===== Gen loss: 3.7441\n",
            "Epoch: 97 ===== Batch: 200/235 ===== Disc loss: 0.6772 ===== Gen loss: 2.4596\n",
            "Generated images saved at '/content/drive/MyDrive/Generated_Images/generated_images_epoch_97.png'\n",
            "Model checkpoint saved at '/content/drive/MyDrive/Generated_Images/model_checkpoint_epoch_97.pt'\n",
            "Epoch: 98 ===== Batch: 0/235 ===== Disc loss: 0.6955 ===== Gen loss: 1.6923\n",
            "Epoch: 98 ===== Batch: 50/235 ===== Disc loss: 0.6930 ===== Gen loss: 1.6321\n",
            "Epoch: 98 ===== Batch: 100/235 ===== Disc loss: 0.7243 ===== Gen loss: 1.7073\n",
            "Epoch: 98 ===== Batch: 150/235 ===== Disc loss: 0.6981 ===== Gen loss: 2.8329\n",
            "Epoch: 98 ===== Batch: 200/235 ===== Disc loss: 0.6760 ===== Gen loss: 2.0605\n",
            "Generated images saved at '/content/drive/MyDrive/Generated_Images/generated_images_epoch_98.png'\n",
            "Model checkpoint saved at '/content/drive/MyDrive/Generated_Images/model_checkpoint_epoch_98.pt'\n",
            "Epoch: 99 ===== Batch: 0/235 ===== Disc loss: 0.8512 ===== Gen loss: 4.2150\n",
            "Epoch: 99 ===== Batch: 50/235 ===== Disc loss: 0.6643 ===== Gen loss: 2.6445\n",
            "Epoch: 99 ===== Batch: 100/235 ===== Disc loss: 0.7749 ===== Gen loss: 2.8496\n",
            "Epoch: 99 ===== Batch: 150/235 ===== Disc loss: 0.7074 ===== Gen loss: 2.7281\n",
            "Epoch: 99 ===== Batch: 200/235 ===== Disc loss: 0.6779 ===== Gen loss: 2.7250\n",
            "Generated images saved at '/content/drive/MyDrive/Generated_Images/generated_images_epoch_99.png'\n",
            "Model checkpoint saved at '/content/drive/MyDrive/Generated_Images/model_checkpoint_epoch_99.pt'\n",
            "Epoch: 100 ===== Batch: 0/235 ===== Disc loss: 0.6980 ===== Gen loss: 2.5667\n",
            "Epoch: 100 ===== Batch: 50/235 ===== Disc loss: 0.6693 ===== Gen loss: 2.4478\n",
            "Epoch: 100 ===== Batch: 100/235 ===== Disc loss: 0.6699 ===== Gen loss: 2.3382\n",
            "Epoch: 100 ===== Batch: 150/235 ===== Disc loss: 0.7138 ===== Gen loss: 1.8130\n",
            "Epoch: 100 ===== Batch: 200/235 ===== Disc loss: 0.6878 ===== Gen loss: 2.0887\n",
            "Generated images saved at '/content/drive/MyDrive/Generated_Images/generated_images_epoch_100.png'\n",
            "Model checkpoint saved at '/content/drive/MyDrive/Generated_Images/model_checkpoint_epoch_100.pt'\n",
            "Epoch: 101 ===== Batch: 0/235 ===== Disc loss: 0.6860 ===== Gen loss: 2.9102\n",
            "Epoch: 101 ===== Batch: 50/235 ===== Disc loss: 0.8532 ===== Gen loss: 1.5053\n",
            "Epoch: 101 ===== Batch: 100/235 ===== Disc loss: 0.6620 ===== Gen loss: 2.5329\n",
            "Epoch: 101 ===== Batch: 150/235 ===== Disc loss: 0.7228 ===== Gen loss: 3.4580\n",
            "Epoch: 101 ===== Batch: 200/235 ===== Disc loss: 0.6735 ===== Gen loss: 2.4083\n",
            "Generated images saved at '/content/drive/MyDrive/Generated_Images/generated_images_epoch_101.png'\n",
            "Model checkpoint saved at '/content/drive/MyDrive/Generated_Images/model_checkpoint_epoch_101.pt'\n",
            "Epoch: 102 ===== Batch: 0/235 ===== Disc loss: 0.6670 ===== Gen loss: 2.5352\n",
            "Epoch: 102 ===== Batch: 50/235 ===== Disc loss: 0.6815 ===== Gen loss: 2.1194\n",
            "Epoch: 102 ===== Batch: 100/235 ===== Disc loss: 0.6686 ===== Gen loss: 2.5094\n",
            "Epoch: 102 ===== Batch: 150/235 ===== Disc loss: 1.0695 ===== Gen loss: 4.0861\n",
            "Epoch: 102 ===== Batch: 200/235 ===== Disc loss: 0.6631 ===== Gen loss: 2.4230\n",
            "Generated images saved at '/content/drive/MyDrive/Generated_Images/generated_images_epoch_102.png'\n",
            "Model checkpoint saved at '/content/drive/MyDrive/Generated_Images/model_checkpoint_epoch_102.pt'\n",
            "Epoch: 103 ===== Batch: 0/235 ===== Disc loss: 0.6684 ===== Gen loss: 2.4360\n",
            "Epoch: 103 ===== Batch: 50/235 ===== Disc loss: 0.6800 ===== Gen loss: 2.6590\n",
            "Epoch: 103 ===== Batch: 100/235 ===== Disc loss: 0.6805 ===== Gen loss: 2.7141\n",
            "Epoch: 103 ===== Batch: 150/235 ===== Disc loss: 0.6840 ===== Gen loss: 2.1208\n",
            "Epoch: 103 ===== Batch: 200/235 ===== Disc loss: 0.6701 ===== Gen loss: 2.5539\n",
            "Generated images saved at '/content/drive/MyDrive/Generated_Images/generated_images_epoch_103.png'\n",
            "Model checkpoint saved at '/content/drive/MyDrive/Generated_Images/model_checkpoint_epoch_103.pt'\n",
            "Epoch: 104 ===== Batch: 0/235 ===== Disc loss: 0.7322 ===== Gen loss: 3.4181\n",
            "Epoch: 104 ===== Batch: 50/235 ===== Disc loss: 0.7578 ===== Gen loss: 3.6584\n",
            "Epoch: 104 ===== Batch: 100/235 ===== Disc loss: 0.6782 ===== Gen loss: 2.3709\n",
            "Epoch: 104 ===== Batch: 150/235 ===== Disc loss: 0.7298 ===== Gen loss: 1.6762\n",
            "Epoch: 104 ===== Batch: 200/235 ===== Disc loss: 0.6871 ===== Gen loss: 2.7990\n",
            "Generated images saved at '/content/drive/MyDrive/Generated_Images/generated_images_epoch_104.png'\n",
            "Model checkpoint saved at '/content/drive/MyDrive/Generated_Images/model_checkpoint_epoch_104.pt'\n",
            "Epoch: 105 ===== Batch: 0/235 ===== Disc loss: 0.6702 ===== Gen loss: 2.1343\n",
            "Epoch: 105 ===== Batch: 50/235 ===== Disc loss: 0.7280 ===== Gen loss: 2.6400\n",
            "Epoch: 105 ===== Batch: 100/235 ===== Disc loss: 0.6888 ===== Gen loss: 2.5233\n",
            "Epoch: 105 ===== Batch: 150/235 ===== Disc loss: 0.6706 ===== Gen loss: 2.4747\n",
            "Epoch: 105 ===== Batch: 200/235 ===== Disc loss: 0.6903 ===== Gen loss: 2.8275\n",
            "Generated images saved at '/content/drive/MyDrive/Generated_Images/generated_images_epoch_105.png'\n",
            "Model checkpoint saved at '/content/drive/MyDrive/Generated_Images/model_checkpoint_epoch_105.pt'\n",
            "Epoch: 106 ===== Batch: 0/235 ===== Disc loss: 0.6725 ===== Gen loss: 1.8931\n",
            "Epoch: 106 ===== Batch: 50/235 ===== Disc loss: 0.6720 ===== Gen loss: 2.3996\n",
            "Epoch: 106 ===== Batch: 100/235 ===== Disc loss: 0.7558 ===== Gen loss: 3.5076\n",
            "Epoch: 106 ===== Batch: 150/235 ===== Disc loss: 0.6683 ===== Gen loss: 2.4953\n",
            "Epoch: 106 ===== Batch: 200/235 ===== Disc loss: 0.6649 ===== Gen loss: 2.2238\n",
            "Generated images saved at '/content/drive/MyDrive/Generated_Images/generated_images_epoch_106.png'\n",
            "Model checkpoint saved at '/content/drive/MyDrive/Generated_Images/model_checkpoint_epoch_106.pt'\n",
            "Epoch: 107 ===== Batch: 0/235 ===== Disc loss: 0.7819 ===== Gen loss: 2.1542\n",
            "Epoch: 107 ===== Batch: 50/235 ===== Disc loss: 0.6663 ===== Gen loss: 2.5273\n",
            "Epoch: 107 ===== Batch: 100/235 ===== Disc loss: 0.6801 ===== Gen loss: 2.0481\n",
            "Epoch: 107 ===== Batch: 150/235 ===== Disc loss: 0.6625 ===== Gen loss: 2.3505\n",
            "Epoch: 107 ===== Batch: 200/235 ===== Disc loss: 0.6668 ===== Gen loss: 2.0218\n",
            "Generated images saved at '/content/drive/MyDrive/Generated_Images/generated_images_epoch_107.png'\n",
            "Model checkpoint saved at '/content/drive/MyDrive/Generated_Images/model_checkpoint_epoch_107.pt'\n",
            "Epoch: 108 ===== Batch: 0/235 ===== Disc loss: 0.6744 ===== Gen loss: 2.2658\n",
            "Epoch: 108 ===== Batch: 50/235 ===== Disc loss: 0.6833 ===== Gen loss: 2.0765\n",
            "Epoch: 108 ===== Batch: 100/235 ===== Disc loss: 0.6695 ===== Gen loss: 2.5386\n",
            "Epoch: 108 ===== Batch: 150/235 ===== Disc loss: 0.7002 ===== Gen loss: 2.8951\n",
            "Epoch: 108 ===== Batch: 200/235 ===== Disc loss: 0.6965 ===== Gen loss: 2.8845\n",
            "Generated images saved at '/content/drive/MyDrive/Generated_Images/generated_images_epoch_108.png'\n",
            "Model checkpoint saved at '/content/drive/MyDrive/Generated_Images/model_checkpoint_epoch_108.pt'\n",
            "Epoch: 109 ===== Batch: 0/235 ===== Disc loss: 0.6849 ===== Gen loss: 2.1146\n",
            "Epoch: 109 ===== Batch: 50/235 ===== Disc loss: 0.6683 ===== Gen loss: 2.4203\n",
            "Epoch: 109 ===== Batch: 100/235 ===== Disc loss: 0.6855 ===== Gen loss: 2.3780\n",
            "Epoch: 109 ===== Batch: 150/235 ===== Disc loss: 0.6762 ===== Gen loss: 2.2817\n",
            "Epoch: 109 ===== Batch: 200/235 ===== Disc loss: 0.6656 ===== Gen loss: 2.2543\n",
            "Generated images saved at '/content/drive/MyDrive/Generated_Images/generated_images_epoch_109.png'\n",
            "Model checkpoint saved at '/content/drive/MyDrive/Generated_Images/model_checkpoint_epoch_109.pt'\n",
            "Epoch: 110 ===== Batch: 0/235 ===== Disc loss: 0.7382 ===== Gen loss: 1.8015\n",
            "Epoch: 110 ===== Batch: 50/235 ===== Disc loss: 0.6792 ===== Gen loss: 2.3318\n",
            "Epoch: 110 ===== Batch: 100/235 ===== Disc loss: 0.6792 ===== Gen loss: 2.3850\n",
            "Epoch: 110 ===== Batch: 150/235 ===== Disc loss: 0.6967 ===== Gen loss: 2.2162\n",
            "Epoch: 110 ===== Batch: 200/235 ===== Disc loss: 0.6789 ===== Gen loss: 2.0430\n",
            "Generated images saved at '/content/drive/MyDrive/Generated_Images/generated_images_epoch_110.png'\n",
            "Model checkpoint saved at '/content/drive/MyDrive/Generated_Images/model_checkpoint_epoch_110.pt'\n",
            "Epoch: 111 ===== Batch: 0/235 ===== Disc loss: 0.6627 ===== Gen loss: 2.5585\n",
            "Epoch: 111 ===== Batch: 50/235 ===== Disc loss: 0.6627 ===== Gen loss: 2.4584\n",
            "Epoch: 111 ===== Batch: 100/235 ===== Disc loss: 0.6766 ===== Gen loss: 2.3484\n",
            "Epoch: 111 ===== Batch: 150/235 ===== Disc loss: 0.7189 ===== Gen loss: 3.1331\n",
            "Epoch: 111 ===== Batch: 200/235 ===== Disc loss: 0.6683 ===== Gen loss: 2.3307\n",
            "Generated images saved at '/content/drive/MyDrive/Generated_Images/generated_images_epoch_111.png'\n",
            "Model checkpoint saved at '/content/drive/MyDrive/Generated_Images/model_checkpoint_epoch_111.pt'\n",
            "Epoch: 112 ===== Batch: 0/235 ===== Disc loss: 0.6776 ===== Gen loss: 2.5419\n",
            "Epoch: 112 ===== Batch: 50/235 ===== Disc loss: 0.6536 ===== Gen loss: 2.3064\n",
            "Epoch: 112 ===== Batch: 100/235 ===== Disc loss: 0.6565 ===== Gen loss: 2.3414\n",
            "Epoch: 112 ===== Batch: 150/235 ===== Disc loss: 0.6548 ===== Gen loss: 2.3218\n",
            "Epoch: 112 ===== Batch: 200/235 ===== Disc loss: 0.6538 ===== Gen loss: 2.3708\n",
            "Generated images saved at '/content/drive/MyDrive/Generated_Images/generated_images_epoch_112.png'\n",
            "Model checkpoint saved at '/content/drive/MyDrive/Generated_Images/model_checkpoint_epoch_112.pt'\n",
            "Epoch: 113 ===== Batch: 0/235 ===== Disc loss: 0.6542 ===== Gen loss: 2.3081\n",
            "Epoch: 113 ===== Batch: 50/235 ===== Disc loss: 0.6521 ===== Gen loss: 2.2960\n",
            "Epoch: 113 ===== Batch: 100/235 ===== Disc loss: 0.6539 ===== Gen loss: 2.2446\n",
            "Epoch: 113 ===== Batch: 150/235 ===== Disc loss: 0.6718 ===== Gen loss: 1.4657\n",
            "Epoch: 113 ===== Batch: 200/235 ===== Disc loss: 0.6611 ===== Gen loss: 2.0921\n",
            "Generated images saved at '/content/drive/MyDrive/Generated_Images/generated_images_epoch_113.png'\n",
            "Model checkpoint saved at '/content/drive/MyDrive/Generated_Images/model_checkpoint_epoch_113.pt'\n",
            "Epoch: 114 ===== Batch: 0/235 ===== Disc loss: 0.6600 ===== Gen loss: 1.9530\n",
            "Epoch: 114 ===== Batch: 50/235 ===== Disc loss: 0.8997 ===== Gen loss: 4.2432\n",
            "Epoch: 114 ===== Batch: 100/235 ===== Disc loss: 0.6634 ===== Gen loss: 2.0780\n",
            "Epoch: 114 ===== Batch: 150/235 ===== Disc loss: 0.6686 ===== Gen loss: 2.1493\n",
            "Epoch: 114 ===== Batch: 200/235 ===== Disc loss: 0.6607 ===== Gen loss: 2.1599\n",
            "Generated images saved at '/content/drive/MyDrive/Generated_Images/generated_images_epoch_114.png'\n",
            "Model checkpoint saved at '/content/drive/MyDrive/Generated_Images/model_checkpoint_epoch_114.pt'\n",
            "Epoch: 115 ===== Batch: 0/235 ===== Disc loss: 0.7583 ===== Gen loss: 2.2190\n",
            "Epoch: 115 ===== Batch: 50/235 ===== Disc loss: 0.6620 ===== Gen loss: 2.0616\n",
            "Epoch: 115 ===== Batch: 100/235 ===== Disc loss: 0.6601 ===== Gen loss: 2.6566\n",
            "Epoch: 115 ===== Batch: 150/235 ===== Disc loss: 0.6583 ===== Gen loss: 2.5399\n",
            "Epoch: 115 ===== Batch: 200/235 ===== Disc loss: 0.6550 ===== Gen loss: 2.4133\n",
            "Generated images saved at '/content/drive/MyDrive/Generated_Images/generated_images_epoch_115.png'\n",
            "Model checkpoint saved at '/content/drive/MyDrive/Generated_Images/model_checkpoint_epoch_115.pt'\n",
            "Epoch: 116 ===== Batch: 0/235 ===== Disc loss: 0.6698 ===== Gen loss: 2.7983\n",
            "Epoch: 116 ===== Batch: 50/235 ===== Disc loss: 0.6551 ===== Gen loss: 2.5592\n",
            "Epoch: 116 ===== Batch: 100/235 ===== Disc loss: 0.6600 ===== Gen loss: 2.2912\n",
            "Epoch: 116 ===== Batch: 150/235 ===== Disc loss: 0.6575 ===== Gen loss: 2.3720\n",
            "Epoch: 116 ===== Batch: 200/235 ===== Disc loss: 0.6564 ===== Gen loss: 2.0936\n",
            "Generated images saved at '/content/drive/MyDrive/Generated_Images/generated_images_epoch_116.png'\n",
            "Model checkpoint saved at '/content/drive/MyDrive/Generated_Images/model_checkpoint_epoch_116.pt'\n",
            "Epoch: 117 ===== Batch: 0/235 ===== Disc loss: 0.6570 ===== Gen loss: 2.3072\n",
            "Epoch: 117 ===== Batch: 50/235 ===== Disc loss: 0.6777 ===== Gen loss: 2.9725\n",
            "Epoch: 117 ===== Batch: 100/235 ===== Disc loss: 0.6554 ===== Gen loss: 2.4041\n",
            "Epoch: 117 ===== Batch: 150/235 ===== Disc loss: 0.6587 ===== Gen loss: 2.2061\n",
            "Epoch: 117 ===== Batch: 200/235 ===== Disc loss: 0.6707 ===== Gen loss: 2.3542\n",
            "Generated images saved at '/content/drive/MyDrive/Generated_Images/generated_images_epoch_117.png'\n",
            "Model checkpoint saved at '/content/drive/MyDrive/Generated_Images/model_checkpoint_epoch_117.pt'\n",
            "Epoch: 118 ===== Batch: 0/235 ===== Disc loss: 0.6597 ===== Gen loss: 2.4273\n",
            "Epoch: 118 ===== Batch: 50/235 ===== Disc loss: 0.6661 ===== Gen loss: 2.4531\n",
            "Epoch: 118 ===== Batch: 100/235 ===== Disc loss: 0.6700 ===== Gen loss: 2.7412\n",
            "Epoch: 118 ===== Batch: 150/235 ===== Disc loss: 0.6597 ===== Gen loss: 2.3727\n",
            "Epoch: 118 ===== Batch: 200/235 ===== Disc loss: 0.6573 ===== Gen loss: 2.4075\n",
            "Generated images saved at '/content/drive/MyDrive/Generated_Images/generated_images_epoch_118.png'\n",
            "Model checkpoint saved at '/content/drive/MyDrive/Generated_Images/model_checkpoint_epoch_118.pt'\n",
            "Epoch: 119 ===== Batch: 0/235 ===== Disc loss: 0.6581 ===== Gen loss: 2.3139\n",
            "Epoch: 119 ===== Batch: 50/235 ===== Disc loss: 0.6561 ===== Gen loss: 2.4497\n",
            "Epoch: 119 ===== Batch: 100/235 ===== Disc loss: 0.6818 ===== Gen loss: 2.7086\n",
            "Epoch: 119 ===== Batch: 150/235 ===== Disc loss: 0.6757 ===== Gen loss: 2.4326\n",
            "Epoch: 119 ===== Batch: 200/235 ===== Disc loss: 0.6596 ===== Gen loss: 2.3703\n",
            "Generated images saved at '/content/drive/MyDrive/Generated_Images/generated_images_epoch_119.png'\n",
            "Model checkpoint saved at '/content/drive/MyDrive/Generated_Images/model_checkpoint_epoch_119.pt'\n",
            "Epoch: 120 ===== Batch: 0/235 ===== Disc loss: 0.6826 ===== Gen loss: 3.0208\n",
            "Epoch: 120 ===== Batch: 50/235 ===== Disc loss: 0.6587 ===== Gen loss: 2.5193\n",
            "Epoch: 120 ===== Batch: 100/235 ===== Disc loss: 0.6614 ===== Gen loss: 2.3021\n",
            "Epoch: 120 ===== Batch: 150/235 ===== Disc loss: 0.6563 ===== Gen loss: 2.4271\n",
            "Epoch: 120 ===== Batch: 200/235 ===== Disc loss: 0.6705 ===== Gen loss: 2.7527\n",
            "Generated images saved at '/content/drive/MyDrive/Generated_Images/generated_images_epoch_120.png'\n",
            "Model checkpoint saved at '/content/drive/MyDrive/Generated_Images/model_checkpoint_epoch_120.pt'\n",
            "Epoch: 121 ===== Batch: 0/235 ===== Disc loss: 0.6590 ===== Gen loss: 2.2292\n",
            "Epoch: 121 ===== Batch: 50/235 ===== Disc loss: 0.6620 ===== Gen loss: 2.2960\n",
            "Epoch: 121 ===== Batch: 100/235 ===== Disc loss: 0.6738 ===== Gen loss: 2.9981\n",
            "Epoch: 121 ===== Batch: 150/235 ===== Disc loss: 0.6834 ===== Gen loss: 3.2240\n",
            "Epoch: 121 ===== Batch: 200/235 ===== Disc loss: 0.6764 ===== Gen loss: 2.5801\n",
            "Generated images saved at '/content/drive/MyDrive/Generated_Images/generated_images_epoch_121.png'\n",
            "Model checkpoint saved at '/content/drive/MyDrive/Generated_Images/model_checkpoint_epoch_121.pt'\n",
            "Epoch: 122 ===== Batch: 0/235 ===== Disc loss: 0.6703 ===== Gen loss: 2.0376\n",
            "Epoch: 122 ===== Batch: 50/235 ===== Disc loss: 0.6628 ===== Gen loss: 2.0595\n",
            "Epoch: 122 ===== Batch: 100/235 ===== Disc loss: 0.6922 ===== Gen loss: 2.0450\n",
            "Epoch: 122 ===== Batch: 150/235 ===== Disc loss: 0.7417 ===== Gen loss: 2.4438\n",
            "Epoch: 122 ===== Batch: 200/235 ===== Disc loss: 0.6964 ===== Gen loss: 1.7911\n",
            "Generated images saved at '/content/drive/MyDrive/Generated_Images/generated_images_epoch_122.png'\n",
            "Model checkpoint saved at '/content/drive/MyDrive/Generated_Images/model_checkpoint_epoch_122.pt'\n",
            "Epoch: 123 ===== Batch: 0/235 ===== Disc loss: 0.6820 ===== Gen loss: 2.7555\n",
            "Epoch: 123 ===== Batch: 50/235 ===== Disc loss: 0.7588 ===== Gen loss: 3.7661\n",
            "Epoch: 123 ===== Batch: 100/235 ===== Disc loss: 0.6642 ===== Gen loss: 2.3546\n",
            "Epoch: 123 ===== Batch: 150/235 ===== Disc loss: 0.6895 ===== Gen loss: 3.0676\n",
            "Epoch: 123 ===== Batch: 200/235 ===== Disc loss: 0.6823 ===== Gen loss: 2.0727\n",
            "Generated images saved at '/content/drive/MyDrive/Generated_Images/generated_images_epoch_123.png'\n",
            "Model checkpoint saved at '/content/drive/MyDrive/Generated_Images/model_checkpoint_epoch_123.pt'\n",
            "Epoch: 124 ===== Batch: 0/235 ===== Disc loss: 0.8035 ===== Gen loss: 2.9857\n",
            "Epoch: 124 ===== Batch: 50/235 ===== Disc loss: 0.6959 ===== Gen loss: 2.3559\n",
            "Epoch: 124 ===== Batch: 100/235 ===== Disc loss: 0.6673 ===== Gen loss: 2.2661\n",
            "Epoch: 124 ===== Batch: 150/235 ===== Disc loss: 0.6851 ===== Gen loss: 2.2172\n",
            "Epoch: 124 ===== Batch: 200/235 ===== Disc loss: 0.6731 ===== Gen loss: 2.6321\n",
            "Generated images saved at '/content/drive/MyDrive/Generated_Images/generated_images_epoch_124.png'\n",
            "Model checkpoint saved at '/content/drive/MyDrive/Generated_Images/model_checkpoint_epoch_124.pt'\n",
            "Epoch: 125 ===== Batch: 0/235 ===== Disc loss: 0.6841 ===== Gen loss: 2.9378\n",
            "Epoch: 125 ===== Batch: 50/235 ===== Disc loss: 0.6615 ===== Gen loss: 2.3625\n",
            "Epoch: 125 ===== Batch: 100/235 ===== Disc loss: 0.6836 ===== Gen loss: 1.9676\n",
            "Epoch: 125 ===== Batch: 150/235 ===== Disc loss: 0.6598 ===== Gen loss: 2.4156\n",
            "Epoch: 125 ===== Batch: 200/235 ===== Disc loss: 0.6689 ===== Gen loss: 2.0763\n",
            "Generated images saved at '/content/drive/MyDrive/Generated_Images/generated_images_epoch_125.png'\n",
            "Model checkpoint saved at '/content/drive/MyDrive/Generated_Images/model_checkpoint_epoch_125.pt'\n",
            "Epoch: 126 ===== Batch: 0/235 ===== Disc loss: 0.7703 ===== Gen loss: 3.6808\n",
            "Epoch: 126 ===== Batch: 50/235 ===== Disc loss: 0.6587 ===== Gen loss: 2.3392\n",
            "Epoch: 126 ===== Batch: 100/235 ===== Disc loss: 0.6708 ===== Gen loss: 2.5215\n",
            "Epoch: 126 ===== Batch: 150/235 ===== Disc loss: 0.7060 ===== Gen loss: 3.3003\n",
            "Epoch: 126 ===== Batch: 200/235 ===== Disc loss: 0.6725 ===== Gen loss: 2.8578\n",
            "Generated images saved at '/content/drive/MyDrive/Generated_Images/generated_images_epoch_126.png'\n",
            "Model checkpoint saved at '/content/drive/MyDrive/Generated_Images/model_checkpoint_epoch_126.pt'\n",
            "Epoch: 127 ===== Batch: 0/235 ===== Disc loss: 0.9403 ===== Gen loss: 5.2241\n",
            "Epoch: 127 ===== Batch: 50/235 ===== Disc loss: 0.7859 ===== Gen loss: 4.3462\n",
            "Epoch: 127 ===== Batch: 100/235 ===== Disc loss: 0.6645 ===== Gen loss: 2.7726\n",
            "Epoch: 127 ===== Batch: 150/235 ===== Disc loss: 0.6607 ===== Gen loss: 2.0632\n",
            "Epoch: 127 ===== Batch: 200/235 ===== Disc loss: 0.6611 ===== Gen loss: 2.1229\n",
            "Generated images saved at '/content/drive/MyDrive/Generated_Images/generated_images_epoch_127.png'\n",
            "Model checkpoint saved at '/content/drive/MyDrive/Generated_Images/model_checkpoint_epoch_127.pt'\n",
            "Epoch: 128 ===== Batch: 0/235 ===== Disc loss: 0.6833 ===== Gen loss: 2.8405\n",
            "Epoch: 128 ===== Batch: 50/235 ===== Disc loss: 0.6591 ===== Gen loss: 2.3126\n",
            "Epoch: 128 ===== Batch: 100/235 ===== Disc loss: 0.6622 ===== Gen loss: 2.3223\n",
            "Epoch: 128 ===== Batch: 150/235 ===== Disc loss: 0.6675 ===== Gen loss: 2.2768\n",
            "Epoch: 128 ===== Batch: 200/235 ===== Disc loss: 0.6575 ===== Gen loss: 2.2410\n",
            "Generated images saved at '/content/drive/MyDrive/Generated_Images/generated_images_epoch_128.png'\n",
            "Model checkpoint saved at '/content/drive/MyDrive/Generated_Images/model_checkpoint_epoch_128.pt'\n",
            "Epoch: 129 ===== Batch: 0/235 ===== Disc loss: 0.6883 ===== Gen loss: 3.2169\n",
            "Epoch: 129 ===== Batch: 50/235 ===== Disc loss: 0.6647 ===== Gen loss: 2.3335\n",
            "Epoch: 129 ===== Batch: 100/235 ===== Disc loss: 0.6692 ===== Gen loss: 2.5872\n",
            "Epoch: 129 ===== Batch: 150/235 ===== Disc loss: 0.6928 ===== Gen loss: 2.7065\n",
            "Epoch: 129 ===== Batch: 200/235 ===== Disc loss: 0.6706 ===== Gen loss: 2.3770\n",
            "Generated images saved at '/content/drive/MyDrive/Generated_Images/generated_images_epoch_129.png'\n",
            "Model checkpoint saved at '/content/drive/MyDrive/Generated_Images/model_checkpoint_epoch_129.pt'\n",
            "Epoch: 130 ===== Batch: 0/235 ===== Disc loss: 0.7168 ===== Gen loss: 1.4692\n",
            "Epoch: 130 ===== Batch: 50/235 ===== Disc loss: 0.6843 ===== Gen loss: 2.2434\n",
            "Epoch: 130 ===== Batch: 100/235 ===== Disc loss: 0.6628 ===== Gen loss: 2.2391\n",
            "Epoch: 130 ===== Batch: 150/235 ===== Disc loss: 0.6661 ===== Gen loss: 2.4928\n",
            "Epoch: 130 ===== Batch: 200/235 ===== Disc loss: 0.6616 ===== Gen loss: 2.4046\n",
            "Generated images saved at '/content/drive/MyDrive/Generated_Images/generated_images_epoch_130.png'\n",
            "Model checkpoint saved at '/content/drive/MyDrive/Generated_Images/model_checkpoint_epoch_130.pt'\n",
            "Epoch: 131 ===== Batch: 0/235 ===== Disc loss: 0.6618 ===== Gen loss: 2.4944\n",
            "Epoch: 131 ===== Batch: 50/235 ===== Disc loss: 0.6596 ===== Gen loss: 2.3733\n",
            "Epoch: 131 ===== Batch: 100/235 ===== Disc loss: 0.6777 ===== Gen loss: 2.1851\n",
            "Epoch: 131 ===== Batch: 150/235 ===== Disc loss: 0.6635 ===== Gen loss: 2.9365\n",
            "Epoch: 131 ===== Batch: 200/235 ===== Disc loss: 0.6635 ===== Gen loss: 2.1748\n",
            "Generated images saved at '/content/drive/MyDrive/Generated_Images/generated_images_epoch_131.png'\n",
            "Model checkpoint saved at '/content/drive/MyDrive/Generated_Images/model_checkpoint_epoch_131.pt'\n",
            "Epoch: 132 ===== Batch: 0/235 ===== Disc loss: 0.7046 ===== Gen loss: 2.6331\n",
            "Epoch: 132 ===== Batch: 50/235 ===== Disc loss: 0.6608 ===== Gen loss: 2.2785\n",
            "Epoch: 132 ===== Batch: 100/235 ===== Disc loss: 0.6596 ===== Gen loss: 2.5728\n",
            "Epoch: 132 ===== Batch: 150/235 ===== Disc loss: 0.6648 ===== Gen loss: 2.4879\n",
            "Epoch: 132 ===== Batch: 200/235 ===== Disc loss: 0.6735 ===== Gen loss: 1.9542\n",
            "Generated images saved at '/content/drive/MyDrive/Generated_Images/generated_images_epoch_132.png'\n",
            "Model checkpoint saved at '/content/drive/MyDrive/Generated_Images/model_checkpoint_epoch_132.pt'\n",
            "Epoch: 133 ===== Batch: 0/235 ===== Disc loss: 0.6613 ===== Gen loss: 2.3609\n",
            "Epoch: 133 ===== Batch: 50/235 ===== Disc loss: 0.6828 ===== Gen loss: 2.6306\n",
            "Epoch: 133 ===== Batch: 100/235 ===== Disc loss: 0.6609 ===== Gen loss: 2.5967\n",
            "Epoch: 133 ===== Batch: 150/235 ===== Disc loss: 0.6651 ===== Gen loss: 2.4497\n",
            "Epoch: 133 ===== Batch: 200/235 ===== Disc loss: 0.6662 ===== Gen loss: 2.3094\n",
            "Generated images saved at '/content/drive/MyDrive/Generated_Images/generated_images_epoch_133.png'\n",
            "Model checkpoint saved at '/content/drive/MyDrive/Generated_Images/model_checkpoint_epoch_133.pt'\n",
            "Epoch: 134 ===== Batch: 0/235 ===== Disc loss: 0.7246 ===== Gen loss: 2.8535\n",
            "Epoch: 134 ===== Batch: 50/235 ===== Disc loss: 0.7001 ===== Gen loss: 2.7974\n",
            "Epoch: 134 ===== Batch: 100/235 ===== Disc loss: 0.8140 ===== Gen loss: 0.9253\n",
            "Epoch: 134 ===== Batch: 150/235 ===== Disc loss: 0.6757 ===== Gen loss: 2.3919\n",
            "Epoch: 134 ===== Batch: 200/235 ===== Disc loss: 0.6601 ===== Gen loss: 2.2641\n",
            "Generated images saved at '/content/drive/MyDrive/Generated_Images/generated_images_epoch_134.png'\n",
            "Model checkpoint saved at '/content/drive/MyDrive/Generated_Images/model_checkpoint_epoch_134.pt'\n",
            "Epoch: 135 ===== Batch: 0/235 ===== Disc loss: 0.6613 ===== Gen loss: 2.2914\n",
            "Epoch: 135 ===== Batch: 50/235 ===== Disc loss: 0.8125 ===== Gen loss: 2.1209\n",
            "Epoch: 135 ===== Batch: 100/235 ===== Disc loss: 0.6582 ===== Gen loss: 2.2829\n",
            "Epoch: 135 ===== Batch: 150/235 ===== Disc loss: 0.6849 ===== Gen loss: 2.2319\n",
            "Epoch: 135 ===== Batch: 200/235 ===== Disc loss: 0.6710 ===== Gen loss: 2.7526\n",
            "Generated images saved at '/content/drive/MyDrive/Generated_Images/generated_images_epoch_135.png'\n",
            "Model checkpoint saved at '/content/drive/MyDrive/Generated_Images/model_checkpoint_epoch_135.pt'\n",
            "Epoch: 136 ===== Batch: 0/235 ===== Disc loss: 0.6933 ===== Gen loss: 1.7663\n",
            "Epoch: 136 ===== Batch: 50/235 ===== Disc loss: 0.6753 ===== Gen loss: 2.7807\n",
            "Epoch: 136 ===== Batch: 100/235 ===== Disc loss: 0.6623 ===== Gen loss: 2.4628\n",
            "Epoch: 136 ===== Batch: 150/235 ===== Disc loss: 0.6676 ===== Gen loss: 2.1936\n",
            "Epoch: 136 ===== Batch: 200/235 ===== Disc loss: 0.6788 ===== Gen loss: 2.9055\n",
            "Generated images saved at '/content/drive/MyDrive/Generated_Images/generated_images_epoch_136.png'\n",
            "Model checkpoint saved at '/content/drive/MyDrive/Generated_Images/model_checkpoint_epoch_136.pt'\n",
            "Epoch: 137 ===== Batch: 0/235 ===== Disc loss: 0.6875 ===== Gen loss: 3.3519\n",
            "Epoch: 137 ===== Batch: 50/235 ===== Disc loss: 0.6675 ===== Gen loss: 2.1361\n",
            "Epoch: 137 ===== Batch: 100/235 ===== Disc loss: 0.6600 ===== Gen loss: 2.0246\n",
            "Epoch: 137 ===== Batch: 150/235 ===== Disc loss: 0.6760 ===== Gen loss: 2.4554\n",
            "Epoch: 137 ===== Batch: 200/235 ===== Disc loss: 0.6768 ===== Gen loss: 2.3717\n",
            "Generated images saved at '/content/drive/MyDrive/Generated_Images/generated_images_epoch_137.png'\n",
            "Model checkpoint saved at '/content/drive/MyDrive/Generated_Images/model_checkpoint_epoch_137.pt'\n",
            "Epoch: 138 ===== Batch: 0/235 ===== Disc loss: 0.6688 ===== Gen loss: 2.4481\n",
            "Epoch: 138 ===== Batch: 50/235 ===== Disc loss: 0.6766 ===== Gen loss: 2.6948\n",
            "Epoch: 138 ===== Batch: 100/235 ===== Disc loss: 0.6588 ===== Gen loss: 2.3299\n",
            "Epoch: 138 ===== Batch: 150/235 ===== Disc loss: 0.6749 ===== Gen loss: 2.1878\n",
            "Epoch: 138 ===== Batch: 200/235 ===== Disc loss: 0.6828 ===== Gen loss: 2.6218\n",
            "Generated images saved at '/content/drive/MyDrive/Generated_Images/generated_images_epoch_138.png'\n",
            "Model checkpoint saved at '/content/drive/MyDrive/Generated_Images/model_checkpoint_epoch_138.pt'\n",
            "Epoch: 139 ===== Batch: 0/235 ===== Disc loss: 0.6727 ===== Gen loss: 2.5793\n",
            "Epoch: 139 ===== Batch: 50/235 ===== Disc loss: 0.6591 ===== Gen loss: 2.5390\n",
            "Epoch: 139 ===== Batch: 100/235 ===== Disc loss: 0.6720 ===== Gen loss: 2.5635\n",
            "Epoch: 139 ===== Batch: 150/235 ===== Disc loss: 0.6911 ===== Gen loss: 2.6765\n",
            "Epoch: 139 ===== Batch: 200/235 ===== Disc loss: 0.6738 ===== Gen loss: 2.1783\n",
            "Generated images saved at '/content/drive/MyDrive/Generated_Images/generated_images_epoch_139.png'\n",
            "Model checkpoint saved at '/content/drive/MyDrive/Generated_Images/model_checkpoint_epoch_139.pt'\n",
            "Epoch: 140 ===== Batch: 0/235 ===== Disc loss: 0.7190 ===== Gen loss: 2.8363\n",
            "Epoch: 140 ===== Batch: 50/235 ===== Disc loss: 0.7005 ===== Gen loss: 3.1501\n",
            "Epoch: 140 ===== Batch: 100/235 ===== Disc loss: 0.7968 ===== Gen loss: 2.1096\n",
            "Epoch: 140 ===== Batch: 150/235 ===== Disc loss: 0.6629 ===== Gen loss: 2.5928\n",
            "Epoch: 140 ===== Batch: 200/235 ===== Disc loss: 0.6731 ===== Gen loss: 2.6378\n",
            "Generated images saved at '/content/drive/MyDrive/Generated_Images/generated_images_epoch_140.png'\n",
            "Model checkpoint saved at '/content/drive/MyDrive/Generated_Images/model_checkpoint_epoch_140.pt'\n",
            "Epoch: 141 ===== Batch: 0/235 ===== Disc loss: 0.7053 ===== Gen loss: 3.3097\n",
            "Epoch: 141 ===== Batch: 50/235 ===== Disc loss: 0.7159 ===== Gen loss: 2.8326\n",
            "Epoch: 141 ===== Batch: 100/235 ===== Disc loss: 0.6648 ===== Gen loss: 2.2530\n",
            "Epoch: 141 ===== Batch: 150/235 ===== Disc loss: 0.6690 ===== Gen loss: 2.3184\n",
            "Epoch: 141 ===== Batch: 200/235 ===== Disc loss: 0.6603 ===== Gen loss: 2.4050\n",
            "Generated images saved at '/content/drive/MyDrive/Generated_Images/generated_images_epoch_141.png'\n",
            "Model checkpoint saved at '/content/drive/MyDrive/Generated_Images/model_checkpoint_epoch_141.pt'\n",
            "Epoch: 142 ===== Batch: 0/235 ===== Disc loss: 0.6821 ===== Gen loss: 2.7322\n",
            "Epoch: 142 ===== Batch: 50/235 ===== Disc loss: 0.6617 ===== Gen loss: 2.4843\n",
            "Epoch: 142 ===== Batch: 100/235 ===== Disc loss: 0.7704 ===== Gen loss: 3.8961\n",
            "Epoch: 142 ===== Batch: 150/235 ===== Disc loss: 0.6715 ===== Gen loss: 2.2560\n",
            "Epoch: 142 ===== Batch: 200/235 ===== Disc loss: 0.6699 ===== Gen loss: 2.6088\n",
            "Generated images saved at '/content/drive/MyDrive/Generated_Images/generated_images_epoch_142.png'\n",
            "Model checkpoint saved at '/content/drive/MyDrive/Generated_Images/model_checkpoint_epoch_142.pt'\n",
            "Epoch: 143 ===== Batch: 0/235 ===== Disc loss: 0.6765 ===== Gen loss: 2.9601\n"
          ]
        }
      ],
      "source": [
        "import torchvision.utils as vutils\n",
        "from google.colab import drive\n",
        "\n",
        "# Mount Google Drive\n",
        "drive.mount('/content/drive')\n",
        "\n",
        "# Define the path in Google Drive where you want to save the generated images and checkpoints\n",
        "save_dir = '/content/drive/MyDrive/Generated_Images/'\n",
        "\n",
        "# loop over all epochs\n",
        "for epoch in range(EPOCHS):\n",
        "    # loop over all data\n",
        "    for batch_idx, (data, target) in enumerate(dataloader):\n",
        "        # set the data to cuda\n",
        "        data = data.to(device)\n",
        "\n",
        "        # get the batch size\n",
        "        batch_size = data.shape[0]\n",
        "\n",
        "        # Train the discriminator model on real data\n",
        "        disc_model.zero_grad()\n",
        "        label = (torch.ones(batch_size) * 0.9).to(device)\n",
        "        output = disc_model(data).reshape(-1)\n",
        "        real_disc_loss = criterion(output, label)\n",
        "        d_x = output.mean().item()\n",
        "\n",
        "        # train the disc model on fake (generated) data\n",
        "        noise = torch.randn(batch_size, noise_channels, 1, 1).to(device)\n",
        "        fake = gen_model(noise)\n",
        "        label = (torch.ones(batch_size) * 0.1).to(device)\n",
        "        output = disc_model(fake.detach()).reshape(-1)\n",
        "        fake_disc_loss = criterion(output, label)\n",
        "\n",
        "        # calculate the final discriminator loss\n",
        "        disc_loss = real_disc_loss + fake_disc_loss\n",
        "\n",
        "        # apply the optimizer and gradient\n",
        "        disc_loss.backward()\n",
        "        disc_optimizer.step()\n",
        "\n",
        "        # train the generator model\n",
        "        gen_model.zero_grad()\n",
        "        label = torch.ones(batch_size).to(device)\n",
        "        output = disc_model(fake).reshape(-1)\n",
        "        gen_loss = criterion(output, label)\n",
        "        # apply the optimizer and gradient\n",
        "        gen_loss.backward()\n",
        "        gen_optimizer.step()\n",
        "\n",
        "        # print losses in console and tensorboard\n",
        "        if batch_idx % 50 == 0:\n",
        "            step += 1\n",
        "\n",
        "            # print everything\n",
        "            print(\n",
        "                f\"Epoch: {epoch} ===== Batch: {batch_idx}/{len(dataloader)} ===== Disc loss: {disc_loss:.4f} ===== Gen loss: {gen_loss:.4f}\"\n",
        "            )\n",
        "\n",
        "            ### test the model\n",
        "            with torch.no_grad():\n",
        "                # generate fake images\n",
        "                fake_images = gen_model(fixed_noise)\n",
        "                # make grid in the tensorboard\n",
        "                img_grid_real = vutils.make_grid(data[:40], normalize=True)\n",
        "                img_grid_fake = vutils.make_grid(fake_images[:40], normalize=True)\n",
        "\n",
        "                # write the images in tensorboard\n",
        "                writer_real.add_image(\n",
        "                    \"Real images\", img_grid_real, global_step=step\n",
        "                )\n",
        "                writer_fake.add_image(\n",
        "                    \"Generated images\", img_grid_fake, global_step=step\n",
        "                )\n",
        "\n",
        "    # save generated images\n",
        "    fake_images = gen_model(fixed_noise)\n",
        "    save_path = save_dir + \"generated_images_epoch_{}.png\".format(epoch)\n",
        "    vutils.save_image(fake_images, save_path, normalize=True)\n",
        "    print(\"Generated images saved at '{}'\".format(save_path))\n",
        "\n",
        "    # save model checkpoint\n",
        "    checkpoint_path = save_dir + \"model_checkpoint_epoch_{}.pt\".format(epoch)\n",
        "    if(epoch>50):\n",
        "      torch.save({\n",
        "          'epoch': epoch,\n",
        "          'gen_model_state_dict': gen_model.state_dict(),\n",
        "          'disc_model_state_dict': disc_model.state_dict(),\n",
        "          'gen_optimizer_state_dict': gen_optimizer.state_dict(),\n",
        "          'disc_optimizer_state_dict': disc_optimizer.state_dict(),\n",
        "          'gen_loss': gen_loss,\n",
        "          'disc_loss': disc_loss\n",
        "      }, checkpoint_path)\n",
        "    print(\"Model checkpoint saved at '{}'\".format(checkpoint_path))\n"
      ]
    },
    {
      "cell_type": "code",
      "execution_count": null,
      "metadata": {
        "id": "DCZWLqC7a8uy",
        "outputId": "477e4f2c-31d9-4cb2-aa48-ffedc4a405aa",
        "colab": {
          "base_uri": "https://localhost:8080/",
          "height": 364
        }
      },
      "outputs": [
        {
          "output_type": "display_data",
          "data": {
            "text/plain": [
              "<IPython.core.display.HTML object>"
            ],
            "text/html": [
              "<pre>⌛ 2 h 50 min 26 s (2023-05-29T23:21:21)</pre>"
            ]
          },
          "metadata": {}
        },
        {
          "output_type": "stream",
          "name": "stdout",
          "text": [
            "Drive already mounted at /content/drive; to attempt to forcibly remount, call drive.mount(\"/content/drive\", force_remount=True).\n",
            "/content/drive/MyDrive/Generated_Images/model_checkpoint_epoch_145.pt\n",
            "Resuming training from checkpoint: '/content/drive/MyDrive/Generated_Images/model_checkpoint_epoch_145.pt'\n",
            "Epoch: 146 ===== Batch: 0/235 ===== Disc loss: 0.6978 ===== Gen loss: 2.6455\n",
            "Epoch: 146 ===== Batch: 50/235 ===== Disc loss: 0.6604 ===== Gen loss: 2.2816\n",
            "Epoch: 146 ===== Batch: 100/235 ===== Disc loss: 0.6635 ===== Gen loss: 2.5287\n",
            "Epoch: 146 ===== Batch: 150/235 ===== Disc loss: 0.6607 ===== Gen loss: 2.3961\n",
            "Epoch: 146 ===== Batch: 200/235 ===== Disc loss: 0.6699 ===== Gen loss: 2.0703\n",
            "Generated images saved at '/content/drive/MyDrive/Generated_Images/generated_images_epoch_146.png'\n",
            "Model checkpoint saved at '/content/drive/MyDrive/Generated_Images/model_checkpoint_epoch_146.pt'\n",
            "Epoch: 147 ===== Batch: 0/235 ===== Disc loss: 0.6872 ===== Gen loss: 1.8372\n",
            "Epoch: 147 ===== Batch: 50/235 ===== Disc loss: 0.6732 ===== Gen loss: 2.2417\n",
            "Epoch: 147 ===== Batch: 100/235 ===== Disc loss: 0.6653 ===== Gen loss: 2.4679\n",
            "Epoch: 147 ===== Batch: 150/235 ===== Disc loss: 0.6659 ===== Gen loss: 2.3546\n",
            "Epoch: 147 ===== Batch: 200/235 ===== Disc loss: 0.6634 ===== Gen loss: 2.4329\n",
            "Generated images saved at '/content/drive/MyDrive/Generated_Images/generated_images_epoch_147.png'\n",
            "Model checkpoint saved at '/content/drive/MyDrive/Generated_Images/model_checkpoint_epoch_147.pt'\n",
            "Epoch: 148 ===== Batch: 0/235 ===== Disc loss: 0.6640 ===== Gen loss: 2.3697\n",
            "Epoch: 148 ===== Batch: 50/235 ===== Disc loss: 0.6725 ===== Gen loss: 2.1073\n"
          ]
        }
      ],
      "source": [
        "#in case the session interrupts we check the last checkpoint saved in the drive\n",
        "import torchvision.utils as vutils\n",
        "from google.colab import drive\n",
        "import os\n",
        "import torch\n",
        "\n",
        "# Mount Google Drive\n",
        "drive.mount('/content/drive')\n",
        "\n",
        "# Define the path in Google Drive where you want to save the generated images and checkpoints\n",
        "save_dir = '/content/drive/MyDrive/Generated_Images/'\n",
        "\n",
        "# Check if any checkpoints already exist\n",
        "checkpoint_files = os.listdir(save_dir)\n",
        "if len(checkpoint_files) > 0:\n",
        "    # Find the latest checkpoint file\n",
        "    latest_checkpoint = max(checkpoint_files, key=lambda x: int(x.split('_')[-1].split('.')[0]) if x.endswith('.pt') else -1)\n",
        "    checkpoint_path = os.path.join(save_dir, latest_checkpoint)\n",
        "\n",
        "    print(checkpoint_path)\n",
        "    # Load the checkpoint with map_location='cpu'\n",
        "    checkpoint = torch.load(checkpoint_path, map_location=torch.device('cpu'))\n",
        "\n",
        "    # Extract the saved information\n",
        "    start_epoch = checkpoint['epoch'] + 1\n",
        "    gen_model.load_state_dict(checkpoint['gen_model_state_dict'])\n",
        "    disc_model.load_state_dict(checkpoint['disc_model_state_dict'])\n",
        "    gen_optimizer.load_state_dict(checkpoint['gen_optimizer_state_dict'])\n",
        "    disc_optimizer.load_state_dict(checkpoint['disc_optimizer_state_dict'])\n",
        "    gen_loss = checkpoint['gen_loss']\n",
        "    disc_loss = checkpoint['disc_loss']\n",
        "\n",
        "    print(\"Resuming training from checkpoint: '{}'\".format(checkpoint_path))\n",
        "else:\n",
        "    # No checkpoints found, start training from the beginning\n",
        "    start_epoch = 0\n",
        "    print(\"No checkpoints found. Starting training from scratch.\")\n",
        "\n",
        "# Loop over all epochs\n",
        "for epoch in range(start_epoch, EPOCHS):\n",
        "     # loop over all data\n",
        "    for batch_idx, (data, target) in enumerate(dataloader):\n",
        "        # set the data to cuda\n",
        "        data = data.to(device)\n",
        "\n",
        "        # get the batch size\n",
        "        batch_size = data.shape[0]\n",
        "\n",
        "        # Train the discriminator model on real data\n",
        "        disc_model.zero_grad()\n",
        "        label = (torch.ones(batch_size) * 0.9).to(device)\n",
        "        output = disc_model(data).reshape(-1)\n",
        "        real_disc_loss = criterion(output, label)\n",
        "        d_x = output.mean().item()\n",
        "\n",
        "        # train the disc model on fake (generated) data\n",
        "        noise = torch.randn(batch_size, noise_channels, 1, 1).to(device)\n",
        "        fake = gen_model(noise)\n",
        "        label = (torch.ones(batch_size) * 0.1).to(device)\n",
        "        output = disc_model(fake.detach()).reshape(-1)\n",
        "        fake_disc_loss = criterion(output, label)\n",
        "\n",
        "        # calculate the final discriminator loss\n",
        "        disc_loss = real_disc_loss + fake_disc_loss\n",
        "\n",
        "        # apply the optimizer and gradient\n",
        "        disc_loss.backward()\n",
        "        disc_optimizer.step()\n",
        "\n",
        "        # train the generator model\n",
        "        gen_model.zero_grad()\n",
        "        label = torch.ones(batch_size).to(device)\n",
        "        output = disc_model(fake).reshape(-1)\n",
        "        gen_loss = criterion(output, label)\n",
        "        # apply the optimizer and gradient\n",
        "        gen_loss.backward()\n",
        "        gen_optimizer.step()\n",
        "\n",
        "        # print losses in console and tensorboard\n",
        "        if batch_idx % 50 == 0:\n",
        "            step += 1\n",
        "\n",
        "            # print everything\n",
        "            print(\n",
        "                f\"Epoch: {epoch} ===== Batch: {batch_idx}/{len(dataloader)} ===== Disc loss: {disc_loss:.4f} ===== Gen loss: {gen_loss:.4f}\"\n",
        "            )\n",
        "\n",
        "            ### test the model\n",
        "            with torch.no_grad():\n",
        "                # generate fake images\n",
        "                fake_images = gen_model(fixed_noise)\n",
        "                # make grid in the tensorboard\n",
        "                img_grid_real = vutils.make_grid(data[:40], normalize=True)\n",
        "                img_grid_fake = vutils.make_grid(fake_images[:40], normalize=True)\n",
        "    # Save generated images\n",
        "    fake_images = gen_model(fixed_noise)\n",
        "    save_path = save_dir + \"generated_images_epoch_{}.png\".format(epoch)\n",
        "    vutils.save_image(fake_images, save_path, normalize=True)\n",
        "    print(\"Generated images saved at '{}'\".format(save_path))\n",
        "\n",
        "    # Save model checkpoint\n",
        "    checkpoint_path = save_dir + \"model_checkpoint_epoch_{}.pt\".format(epoch)\n",
        "    torch.save({\n",
        "        'epoch': epoch,\n",
        "        'gen_model_state_dict': gen_model.state_dict(),\n",
        "        'disc_model_state_dict': disc_model.state_dict(),\n",
        "        'gen_optimizer_state_dict': gen_optimizer.state_dict(),\n",
        "        'disc_optimizer_state_dict': disc_optimizer.state_dict(),\n",
        "        'gen_loss': gen_loss,\n",
        "        'disc_loss': disc_loss\n",
        "    }, checkpoint_path)\n",
        "    print(\"Model checkpoint saved at '{}'\".format(checkpoint_path))\n"
      ]
    },
    {
      "cell_type": "code",
      "execution_count": null,
      "metadata": {
        "id": "GQin8LD568sk"
      },
      "outputs": [],
      "source": []
    },
    {
      "cell_type": "code",
      "execution_count": null,
      "metadata": {
        "id": "dZ7m3yPl5eZ1"
      },
      "outputs": [],
      "source": []
    },
    {
      "cell_type": "code",
      "execution_count": null,
      "metadata": {
        "id": "WT322_JxZx7M"
      },
      "outputs": [],
      "source": [
        "%load_ext tensorboard\n",
        "%tensorboard --logdir logs/ --port 6008\n",
        "# %tensorboard --logdir=runs"
      ]
    },
    {
      "cell_type": "code",
      "execution_count": null,
      "metadata": {
        "id": "SkRVZDByZlFt"
      },
      "outputs": [],
      "source": []
    },
    {
      "cell_type": "code",
      "execution_count": null,
      "metadata": {
        "id": "DUVkb6A0ZTQw"
      },
      "outputs": [],
      "source": []
    }
  ],
  "metadata": {
    "colab": {
      "provenance": [],
      "gpuType": "T4"
    },
    "kernelspec": {
      "display_name": "Python 3",
      "name": "python3"
    },
    "language_info": {
      "name": "python"
    },
    "accelerator": "GPU"
  },
  "nbformat": 4,
  "nbformat_minor": 0
}